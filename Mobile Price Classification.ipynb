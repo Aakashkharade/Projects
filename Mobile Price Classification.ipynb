{
 "cells": [
  {
   "cell_type": "markdown",
   "id": "caeff2d2",
   "metadata": {},
   "source": [
    "Bob has started his own mobile company. He wants to give tough fight to big companies like Apple,Samsung etc.\n",
    "\n",
    "He does not know how to estimate price of mobiles his company creates. In this competitive mobile phone market you cannot simply assume things. To solve this problem he collects sales data of mobile phones of various companies.\n",
    "\n",
    "Bob wants to find out some relation between features of a mobile phone(eg:- RAM,Internal Memory etc) and its selling price. But he is not so good at Machine Learning. So he needs your help to solve this problem.\n",
    "\n",
    "In this problem you do not have to predict actual price but a price range indicating how high the price is"
   ]
  },
  {
   "cell_type": "code",
   "execution_count": 1,
   "id": "206e6b36",
   "metadata": {},
   "outputs": [],
   "source": [
    "import numpy as np\n",
    "import pandas as pd\n",
    "import matplotlib.pyplot as plt\n",
    "import seaborn as sns\n",
    "from scipy.stats import skew\n",
    "\n",
    "import warnings\n",
    "warnings.filterwarnings('ignore')"
   ]
  },
  {
   "cell_type": "code",
   "execution_count": 2,
   "id": "07c5406f",
   "metadata": {
    "scrolled": true
   },
   "outputs": [
    {
     "data": {
      "text/html": [
       "<div>\n",
       "<style scoped>\n",
       "    .dataframe tbody tr th:only-of-type {\n",
       "        vertical-align: middle;\n",
       "    }\n",
       "\n",
       "    .dataframe tbody tr th {\n",
       "        vertical-align: top;\n",
       "    }\n",
       "\n",
       "    .dataframe thead th {\n",
       "        text-align: right;\n",
       "    }\n",
       "</style>\n",
       "<table border=\"1\" class=\"dataframe\">\n",
       "  <thead>\n",
       "    <tr style=\"text-align: right;\">\n",
       "      <th></th>\n",
       "      <th>id</th>\n",
       "      <th>battery_power</th>\n",
       "      <th>blue</th>\n",
       "      <th>clock_speed</th>\n",
       "      <th>dual_sim</th>\n",
       "      <th>fc</th>\n",
       "      <th>four_g</th>\n",
       "      <th>int_memory</th>\n",
       "      <th>m_dep</th>\n",
       "      <th>mobile_wt</th>\n",
       "      <th>...</th>\n",
       "      <th>pc</th>\n",
       "      <th>px_height</th>\n",
       "      <th>px_width</th>\n",
       "      <th>ram</th>\n",
       "      <th>sc_h</th>\n",
       "      <th>sc_w</th>\n",
       "      <th>talk_time</th>\n",
       "      <th>three_g</th>\n",
       "      <th>touch_screen</th>\n",
       "      <th>wifi</th>\n",
       "    </tr>\n",
       "  </thead>\n",
       "  <tbody>\n",
       "    <tr>\n",
       "      <th>0</th>\n",
       "      <td>1</td>\n",
       "      <td>1043</td>\n",
       "      <td>1</td>\n",
       "      <td>1.8</td>\n",
       "      <td>1</td>\n",
       "      <td>14</td>\n",
       "      <td>0</td>\n",
       "      <td>5</td>\n",
       "      <td>0.1</td>\n",
       "      <td>193</td>\n",
       "      <td>...</td>\n",
       "      <td>16</td>\n",
       "      <td>226</td>\n",
       "      <td>1412</td>\n",
       "      <td>3476</td>\n",
       "      <td>12</td>\n",
       "      <td>7</td>\n",
       "      <td>2</td>\n",
       "      <td>0</td>\n",
       "      <td>1</td>\n",
       "      <td>0</td>\n",
       "    </tr>\n",
       "    <tr>\n",
       "      <th>1</th>\n",
       "      <td>2</td>\n",
       "      <td>841</td>\n",
       "      <td>1</td>\n",
       "      <td>0.5</td>\n",
       "      <td>1</td>\n",
       "      <td>4</td>\n",
       "      <td>1</td>\n",
       "      <td>61</td>\n",
       "      <td>0.8</td>\n",
       "      <td>191</td>\n",
       "      <td>...</td>\n",
       "      <td>12</td>\n",
       "      <td>746</td>\n",
       "      <td>857</td>\n",
       "      <td>3895</td>\n",
       "      <td>6</td>\n",
       "      <td>0</td>\n",
       "      <td>7</td>\n",
       "      <td>1</td>\n",
       "      <td>0</td>\n",
       "      <td>0</td>\n",
       "    </tr>\n",
       "    <tr>\n",
       "      <th>2</th>\n",
       "      <td>3</td>\n",
       "      <td>1807</td>\n",
       "      <td>1</td>\n",
       "      <td>2.8</td>\n",
       "      <td>0</td>\n",
       "      <td>1</td>\n",
       "      <td>0</td>\n",
       "      <td>27</td>\n",
       "      <td>0.9</td>\n",
       "      <td>186</td>\n",
       "      <td>...</td>\n",
       "      <td>4</td>\n",
       "      <td>1270</td>\n",
       "      <td>1366</td>\n",
       "      <td>2396</td>\n",
       "      <td>17</td>\n",
       "      <td>10</td>\n",
       "      <td>10</td>\n",
       "      <td>0</td>\n",
       "      <td>1</td>\n",
       "      <td>1</td>\n",
       "    </tr>\n",
       "    <tr>\n",
       "      <th>3</th>\n",
       "      <td>4</td>\n",
       "      <td>1546</td>\n",
       "      <td>0</td>\n",
       "      <td>0.5</td>\n",
       "      <td>1</td>\n",
       "      <td>18</td>\n",
       "      <td>1</td>\n",
       "      <td>25</td>\n",
       "      <td>0.5</td>\n",
       "      <td>96</td>\n",
       "      <td>...</td>\n",
       "      <td>20</td>\n",
       "      <td>295</td>\n",
       "      <td>1752</td>\n",
       "      <td>3893</td>\n",
       "      <td>10</td>\n",
       "      <td>0</td>\n",
       "      <td>7</td>\n",
       "      <td>1</td>\n",
       "      <td>1</td>\n",
       "      <td>0</td>\n",
       "    </tr>\n",
       "    <tr>\n",
       "      <th>4</th>\n",
       "      <td>5</td>\n",
       "      <td>1434</td>\n",
       "      <td>0</td>\n",
       "      <td>1.4</td>\n",
       "      <td>0</td>\n",
       "      <td>11</td>\n",
       "      <td>1</td>\n",
       "      <td>49</td>\n",
       "      <td>0.5</td>\n",
       "      <td>108</td>\n",
       "      <td>...</td>\n",
       "      <td>18</td>\n",
       "      <td>749</td>\n",
       "      <td>810</td>\n",
       "      <td>1773</td>\n",
       "      <td>15</td>\n",
       "      <td>8</td>\n",
       "      <td>7</td>\n",
       "      <td>1</td>\n",
       "      <td>0</td>\n",
       "      <td>1</td>\n",
       "    </tr>\n",
       "    <tr>\n",
       "      <th>...</th>\n",
       "      <td>...</td>\n",
       "      <td>...</td>\n",
       "      <td>...</td>\n",
       "      <td>...</td>\n",
       "      <td>...</td>\n",
       "      <td>...</td>\n",
       "      <td>...</td>\n",
       "      <td>...</td>\n",
       "      <td>...</td>\n",
       "      <td>...</td>\n",
       "      <td>...</td>\n",
       "      <td>...</td>\n",
       "      <td>...</td>\n",
       "      <td>...</td>\n",
       "      <td>...</td>\n",
       "      <td>...</td>\n",
       "      <td>...</td>\n",
       "      <td>...</td>\n",
       "      <td>...</td>\n",
       "      <td>...</td>\n",
       "      <td>...</td>\n",
       "    </tr>\n",
       "    <tr>\n",
       "      <th>995</th>\n",
       "      <td>996</td>\n",
       "      <td>1700</td>\n",
       "      <td>1</td>\n",
       "      <td>1.9</td>\n",
       "      <td>0</td>\n",
       "      <td>0</td>\n",
       "      <td>1</td>\n",
       "      <td>54</td>\n",
       "      <td>0.5</td>\n",
       "      <td>170</td>\n",
       "      <td>...</td>\n",
       "      <td>17</td>\n",
       "      <td>644</td>\n",
       "      <td>913</td>\n",
       "      <td>2121</td>\n",
       "      <td>14</td>\n",
       "      <td>8</td>\n",
       "      <td>15</td>\n",
       "      <td>1</td>\n",
       "      <td>1</td>\n",
       "      <td>0</td>\n",
       "    </tr>\n",
       "    <tr>\n",
       "      <th>996</th>\n",
       "      <td>997</td>\n",
       "      <td>609</td>\n",
       "      <td>0</td>\n",
       "      <td>1.8</td>\n",
       "      <td>1</td>\n",
       "      <td>0</td>\n",
       "      <td>0</td>\n",
       "      <td>13</td>\n",
       "      <td>0.9</td>\n",
       "      <td>186</td>\n",
       "      <td>...</td>\n",
       "      <td>2</td>\n",
       "      <td>1152</td>\n",
       "      <td>1632</td>\n",
       "      <td>1933</td>\n",
       "      <td>8</td>\n",
       "      <td>1</td>\n",
       "      <td>19</td>\n",
       "      <td>0</td>\n",
       "      <td>1</td>\n",
       "      <td>1</td>\n",
       "    </tr>\n",
       "    <tr>\n",
       "      <th>997</th>\n",
       "      <td>998</td>\n",
       "      <td>1185</td>\n",
       "      <td>0</td>\n",
       "      <td>1.4</td>\n",
       "      <td>0</td>\n",
       "      <td>1</td>\n",
       "      <td>1</td>\n",
       "      <td>8</td>\n",
       "      <td>0.5</td>\n",
       "      <td>80</td>\n",
       "      <td>...</td>\n",
       "      <td>12</td>\n",
       "      <td>477</td>\n",
       "      <td>825</td>\n",
       "      <td>1223</td>\n",
       "      <td>5</td>\n",
       "      <td>0</td>\n",
       "      <td>14</td>\n",
       "      <td>1</td>\n",
       "      <td>0</td>\n",
       "      <td>0</td>\n",
       "    </tr>\n",
       "    <tr>\n",
       "      <th>998</th>\n",
       "      <td>999</td>\n",
       "      <td>1533</td>\n",
       "      <td>1</td>\n",
       "      <td>0.5</td>\n",
       "      <td>1</td>\n",
       "      <td>0</td>\n",
       "      <td>0</td>\n",
       "      <td>50</td>\n",
       "      <td>0.4</td>\n",
       "      <td>171</td>\n",
       "      <td>...</td>\n",
       "      <td>12</td>\n",
       "      <td>38</td>\n",
       "      <td>832</td>\n",
       "      <td>2509</td>\n",
       "      <td>15</td>\n",
       "      <td>11</td>\n",
       "      <td>6</td>\n",
       "      <td>0</td>\n",
       "      <td>1</td>\n",
       "      <td>0</td>\n",
       "    </tr>\n",
       "    <tr>\n",
       "      <th>999</th>\n",
       "      <td>1000</td>\n",
       "      <td>1270</td>\n",
       "      <td>1</td>\n",
       "      <td>0.5</td>\n",
       "      <td>0</td>\n",
       "      <td>4</td>\n",
       "      <td>1</td>\n",
       "      <td>35</td>\n",
       "      <td>0.1</td>\n",
       "      <td>140</td>\n",
       "      <td>...</td>\n",
       "      <td>19</td>\n",
       "      <td>457</td>\n",
       "      <td>608</td>\n",
       "      <td>2828</td>\n",
       "      <td>9</td>\n",
       "      <td>2</td>\n",
       "      <td>3</td>\n",
       "      <td>1</td>\n",
       "      <td>0</td>\n",
       "      <td>1</td>\n",
       "    </tr>\n",
       "  </tbody>\n",
       "</table>\n",
       "<p>1000 rows × 21 columns</p>\n",
       "</div>"
      ],
      "text/plain": [
       "       id  battery_power  blue  clock_speed  dual_sim  fc  four_g  int_memory  \\\n",
       "0       1           1043     1          1.8         1  14       0           5   \n",
       "1       2            841     1          0.5         1   4       1          61   \n",
       "2       3           1807     1          2.8         0   1       0          27   \n",
       "3       4           1546     0          0.5         1  18       1          25   \n",
       "4       5           1434     0          1.4         0  11       1          49   \n",
       "..    ...            ...   ...          ...       ...  ..     ...         ...   \n",
       "995   996           1700     1          1.9         0   0       1          54   \n",
       "996   997            609     0          1.8         1   0       0          13   \n",
       "997   998           1185     0          1.4         0   1       1           8   \n",
       "998   999           1533     1          0.5         1   0       0          50   \n",
       "999  1000           1270     1          0.5         0   4       1          35   \n",
       "\n",
       "     m_dep  mobile_wt  ...  pc  px_height  px_width   ram  sc_h  sc_w  \\\n",
       "0      0.1        193  ...  16        226      1412  3476    12     7   \n",
       "1      0.8        191  ...  12        746       857  3895     6     0   \n",
       "2      0.9        186  ...   4       1270      1366  2396    17    10   \n",
       "3      0.5         96  ...  20        295      1752  3893    10     0   \n",
       "4      0.5        108  ...  18        749       810  1773    15     8   \n",
       "..     ...        ...  ...  ..        ...       ...   ...   ...   ...   \n",
       "995    0.5        170  ...  17        644       913  2121    14     8   \n",
       "996    0.9        186  ...   2       1152      1632  1933     8     1   \n",
       "997    0.5         80  ...  12        477       825  1223     5     0   \n",
       "998    0.4        171  ...  12         38       832  2509    15    11   \n",
       "999    0.1        140  ...  19        457       608  2828     9     2   \n",
       "\n",
       "     talk_time  three_g  touch_screen  wifi  \n",
       "0            2        0             1     0  \n",
       "1            7        1             0     0  \n",
       "2           10        0             1     1  \n",
       "3            7        1             1     0  \n",
       "4            7        1             0     1  \n",
       "..         ...      ...           ...   ...  \n",
       "995         15        1             1     0  \n",
       "996         19        0             1     1  \n",
       "997         14        1             0     0  \n",
       "998          6        0             1     0  \n",
       "999          3        1             0     1  \n",
       "\n",
       "[1000 rows x 21 columns]"
      ]
     },
     "execution_count": 2,
     "metadata": {},
     "output_type": "execute_result"
    }
   ],
   "source": [
    "df = pd.read_csv(r'C:\\Users\\Hp\\Downloads\\test.csv')\n",
    "df"
   ]
  },
  {
   "cell_type": "code",
   "execution_count": 92,
   "id": "8fd6273a",
   "metadata": {
    "collapsed": true
   },
   "outputs": [
    {
     "data": {
      "text/plain": [
       "id               0\n",
       "battery_power    0\n",
       "blue             0\n",
       "clock_speed      0\n",
       "dual_sim         0\n",
       "fc               0\n",
       "four_g           0\n",
       "int_memory       0\n",
       "m_dep            0\n",
       "mobile_wt        0\n",
       "n_cores          0\n",
       "pc               0\n",
       "px_height        0\n",
       "px_width         0\n",
       "ram              0\n",
       "sc_h             0\n",
       "sc_w             0\n",
       "talk_time        0\n",
       "three_g          0\n",
       "touch_screen     0\n",
       "wifi             0\n",
       "price_range      0\n",
       "dtype: int64"
      ]
     },
     "execution_count": 92,
     "metadata": {},
     "output_type": "execute_result"
    }
   ],
   "source": [
    "df.isnull().sum()"
   ]
  },
  {
   "cell_type": "code",
   "execution_count": 91,
   "id": "9ba2a5be",
   "metadata": {
    "scrolled": true
   },
   "outputs": [
    {
     "data": {
      "text/plain": [
       "(1000, 22)"
      ]
     },
     "execution_count": 91,
     "metadata": {},
     "output_type": "execute_result"
    }
   ],
   "source": [
    "df.shape"
   ]
  },
  {
   "cell_type": "code",
   "execution_count": 93,
   "id": "6fbd92ae",
   "metadata": {
    "collapsed": true
   },
   "outputs": [
    {
     "name": "stdout",
     "output_type": "stream",
     "text": [
      "<class 'pandas.core.frame.DataFrame'>\n",
      "RangeIndex: 1000 entries, 0 to 999\n",
      "Data columns (total 22 columns):\n",
      " #   Column         Non-Null Count  Dtype  \n",
      "---  ------         --------------  -----  \n",
      " 0   id             1000 non-null   int64  \n",
      " 1   battery_power  1000 non-null   int64  \n",
      " 2   blue           1000 non-null   int64  \n",
      " 3   clock_speed    1000 non-null   float64\n",
      " 4   dual_sim       1000 non-null   int64  \n",
      " 5   fc             1000 non-null   int64  \n",
      " 6   four_g         1000 non-null   int64  \n",
      " 7   int_memory     1000 non-null   int64  \n",
      " 8   m_dep          1000 non-null   float64\n",
      " 9   mobile_wt      1000 non-null   int64  \n",
      " 10  n_cores        1000 non-null   int64  \n",
      " 11  pc             1000 non-null   int64  \n",
      " 12  px_height      1000 non-null   int64  \n",
      " 13  px_width       1000 non-null   int64  \n",
      " 14  ram            1000 non-null   int64  \n",
      " 15  sc_h           1000 non-null   int64  \n",
      " 16  sc_w           1000 non-null   int64  \n",
      " 17  talk_time      1000 non-null   int64  \n",
      " 18  three_g        1000 non-null   int64  \n",
      " 19  touch_screen   1000 non-null   int64  \n",
      " 20  wifi           1000 non-null   int64  \n",
      " 21  price_range    1000 non-null   int32  \n",
      "dtypes: float64(2), int32(1), int64(19)\n",
      "memory usage: 168.1 KB\n"
     ]
    }
   ],
   "source": [
    "df.info()"
   ]
  },
  {
   "cell_type": "code",
   "execution_count": 94,
   "id": "a2a259a4",
   "metadata": {},
   "outputs": [
    {
     "data": {
      "text/html": [
       "<div>\n",
       "<style scoped>\n",
       "    .dataframe tbody tr th:only-of-type {\n",
       "        vertical-align: middle;\n",
       "    }\n",
       "\n",
       "    .dataframe tbody tr th {\n",
       "        vertical-align: top;\n",
       "    }\n",
       "\n",
       "    .dataframe thead th {\n",
       "        text-align: right;\n",
       "    }\n",
       "</style>\n",
       "<table border=\"1\" class=\"dataframe\">\n",
       "  <thead>\n",
       "    <tr style=\"text-align: right;\">\n",
       "      <th></th>\n",
       "      <th>id</th>\n",
       "      <th>battery_power</th>\n",
       "      <th>blue</th>\n",
       "      <th>clock_speed</th>\n",
       "      <th>dual_sim</th>\n",
       "      <th>fc</th>\n",
       "      <th>four_g</th>\n",
       "      <th>int_memory</th>\n",
       "      <th>m_dep</th>\n",
       "      <th>mobile_wt</th>\n",
       "      <th>...</th>\n",
       "      <th>px_height</th>\n",
       "      <th>px_width</th>\n",
       "      <th>ram</th>\n",
       "      <th>sc_h</th>\n",
       "      <th>sc_w</th>\n",
       "      <th>talk_time</th>\n",
       "      <th>three_g</th>\n",
       "      <th>touch_screen</th>\n",
       "      <th>wifi</th>\n",
       "      <th>price_range</th>\n",
       "    </tr>\n",
       "  </thead>\n",
       "  <tbody>\n",
       "    <tr>\n",
       "      <th>count</th>\n",
       "      <td>1000.000000</td>\n",
       "      <td>1000.000000</td>\n",
       "      <td>1000.000000</td>\n",
       "      <td>1000.000000</td>\n",
       "      <td>1000.000000</td>\n",
       "      <td>1000.000000</td>\n",
       "      <td>1000.000000</td>\n",
       "      <td>1000.000000</td>\n",
       "      <td>1000.000000</td>\n",
       "      <td>1000.00000</td>\n",
       "      <td>...</td>\n",
       "      <td>1000.000000</td>\n",
       "      <td>1000.000000</td>\n",
       "      <td>1000.000000</td>\n",
       "      <td>1000.000000</td>\n",
       "      <td>1000.000000</td>\n",
       "      <td>1000.000000</td>\n",
       "      <td>1000.000000</td>\n",
       "      <td>1000.00000</td>\n",
       "      <td>1000.000000</td>\n",
       "      <td>1000.000000</td>\n",
       "    </tr>\n",
       "    <tr>\n",
       "      <th>mean</th>\n",
       "      <td>500.500000</td>\n",
       "      <td>1248.510000</td>\n",
       "      <td>0.516000</td>\n",
       "      <td>1.540900</td>\n",
       "      <td>0.517000</td>\n",
       "      <td>4.593000</td>\n",
       "      <td>0.487000</td>\n",
       "      <td>33.652000</td>\n",
       "      <td>0.517500</td>\n",
       "      <td>139.51100</td>\n",
       "      <td>...</td>\n",
       "      <td>627.121000</td>\n",
       "      <td>1239.774000</td>\n",
       "      <td>2138.998000</td>\n",
       "      <td>11.995000</td>\n",
       "      <td>5.316000</td>\n",
       "      <td>11.085000</td>\n",
       "      <td>0.756000</td>\n",
       "      <td>0.50000</td>\n",
       "      <td>0.507000</td>\n",
       "      <td>0.955000</td>\n",
       "    </tr>\n",
       "    <tr>\n",
       "      <th>std</th>\n",
       "      <td>288.819436</td>\n",
       "      <td>432.458227</td>\n",
       "      <td>0.499994</td>\n",
       "      <td>0.829268</td>\n",
       "      <td>0.499961</td>\n",
       "      <td>4.463325</td>\n",
       "      <td>0.500081</td>\n",
       "      <td>18.128694</td>\n",
       "      <td>0.280861</td>\n",
       "      <td>34.85155</td>\n",
       "      <td>...</td>\n",
       "      <td>432.929699</td>\n",
       "      <td>439.670981</td>\n",
       "      <td>1088.092278</td>\n",
       "      <td>4.320607</td>\n",
       "      <td>4.240062</td>\n",
       "      <td>5.497636</td>\n",
       "      <td>0.429708</td>\n",
       "      <td>0.50025</td>\n",
       "      <td>0.500201</td>\n",
       "      <td>0.848348</td>\n",
       "    </tr>\n",
       "    <tr>\n",
       "      <th>min</th>\n",
       "      <td>1.000000</td>\n",
       "      <td>500.000000</td>\n",
       "      <td>0.000000</td>\n",
       "      <td>0.500000</td>\n",
       "      <td>0.000000</td>\n",
       "      <td>0.000000</td>\n",
       "      <td>0.000000</td>\n",
       "      <td>2.000000</td>\n",
       "      <td>0.100000</td>\n",
       "      <td>80.00000</td>\n",
       "      <td>...</td>\n",
       "      <td>0.000000</td>\n",
       "      <td>501.000000</td>\n",
       "      <td>263.000000</td>\n",
       "      <td>5.000000</td>\n",
       "      <td>0.000000</td>\n",
       "      <td>2.000000</td>\n",
       "      <td>0.000000</td>\n",
       "      <td>0.00000</td>\n",
       "      <td>0.000000</td>\n",
       "      <td>0.000000</td>\n",
       "    </tr>\n",
       "    <tr>\n",
       "      <th>25%</th>\n",
       "      <td>250.750000</td>\n",
       "      <td>895.000000</td>\n",
       "      <td>0.000000</td>\n",
       "      <td>0.700000</td>\n",
       "      <td>0.000000</td>\n",
       "      <td>1.000000</td>\n",
       "      <td>0.000000</td>\n",
       "      <td>18.000000</td>\n",
       "      <td>0.300000</td>\n",
       "      <td>109.75000</td>\n",
       "      <td>...</td>\n",
       "      <td>263.750000</td>\n",
       "      <td>831.750000</td>\n",
       "      <td>1237.250000</td>\n",
       "      <td>8.000000</td>\n",
       "      <td>2.000000</td>\n",
       "      <td>6.750000</td>\n",
       "      <td>1.000000</td>\n",
       "      <td>0.00000</td>\n",
       "      <td>0.000000</td>\n",
       "      <td>0.000000</td>\n",
       "    </tr>\n",
       "    <tr>\n",
       "      <th>50%</th>\n",
       "      <td>500.500000</td>\n",
       "      <td>1246.500000</td>\n",
       "      <td>1.000000</td>\n",
       "      <td>1.500000</td>\n",
       "      <td>1.000000</td>\n",
       "      <td>3.000000</td>\n",
       "      <td>0.000000</td>\n",
       "      <td>34.500000</td>\n",
       "      <td>0.500000</td>\n",
       "      <td>139.00000</td>\n",
       "      <td>...</td>\n",
       "      <td>564.500000</td>\n",
       "      <td>1250.000000</td>\n",
       "      <td>2153.500000</td>\n",
       "      <td>12.000000</td>\n",
       "      <td>5.000000</td>\n",
       "      <td>11.000000</td>\n",
       "      <td>1.000000</td>\n",
       "      <td>0.50000</td>\n",
       "      <td>1.000000</td>\n",
       "      <td>1.000000</td>\n",
       "    </tr>\n",
       "    <tr>\n",
       "      <th>75%</th>\n",
       "      <td>750.250000</td>\n",
       "      <td>1629.250000</td>\n",
       "      <td>1.000000</td>\n",
       "      <td>2.300000</td>\n",
       "      <td>1.000000</td>\n",
       "      <td>7.000000</td>\n",
       "      <td>1.000000</td>\n",
       "      <td>49.000000</td>\n",
       "      <td>0.800000</td>\n",
       "      <td>170.00000</td>\n",
       "      <td>...</td>\n",
       "      <td>903.000000</td>\n",
       "      <td>1637.750000</td>\n",
       "      <td>3065.500000</td>\n",
       "      <td>16.000000</td>\n",
       "      <td>8.000000</td>\n",
       "      <td>16.000000</td>\n",
       "      <td>1.000000</td>\n",
       "      <td>1.00000</td>\n",
       "      <td>1.000000</td>\n",
       "      <td>2.000000</td>\n",
       "    </tr>\n",
       "    <tr>\n",
       "      <th>max</th>\n",
       "      <td>1000.000000</td>\n",
       "      <td>1999.000000</td>\n",
       "      <td>1.000000</td>\n",
       "      <td>3.000000</td>\n",
       "      <td>1.000000</td>\n",
       "      <td>19.000000</td>\n",
       "      <td>1.000000</td>\n",
       "      <td>64.000000</td>\n",
       "      <td>1.000000</td>\n",
       "      <td>200.00000</td>\n",
       "      <td>...</td>\n",
       "      <td>1907.000000</td>\n",
       "      <td>1998.000000</td>\n",
       "      <td>3989.000000</td>\n",
       "      <td>19.000000</td>\n",
       "      <td>18.000000</td>\n",
       "      <td>20.000000</td>\n",
       "      <td>1.000000</td>\n",
       "      <td>1.00000</td>\n",
       "      <td>1.000000</td>\n",
       "      <td>2.000000</td>\n",
       "    </tr>\n",
       "  </tbody>\n",
       "</table>\n",
       "<p>8 rows × 22 columns</p>\n",
       "</div>"
      ],
      "text/plain": [
       "                id  battery_power         blue  clock_speed     dual_sim  \\\n",
       "count  1000.000000    1000.000000  1000.000000  1000.000000  1000.000000   \n",
       "mean    500.500000    1248.510000     0.516000     1.540900     0.517000   \n",
       "std     288.819436     432.458227     0.499994     0.829268     0.499961   \n",
       "min       1.000000     500.000000     0.000000     0.500000     0.000000   \n",
       "25%     250.750000     895.000000     0.000000     0.700000     0.000000   \n",
       "50%     500.500000    1246.500000     1.000000     1.500000     1.000000   \n",
       "75%     750.250000    1629.250000     1.000000     2.300000     1.000000   \n",
       "max    1000.000000    1999.000000     1.000000     3.000000     1.000000   \n",
       "\n",
       "                fc       four_g   int_memory        m_dep   mobile_wt  ...  \\\n",
       "count  1000.000000  1000.000000  1000.000000  1000.000000  1000.00000  ...   \n",
       "mean      4.593000     0.487000    33.652000     0.517500   139.51100  ...   \n",
       "std       4.463325     0.500081    18.128694     0.280861    34.85155  ...   \n",
       "min       0.000000     0.000000     2.000000     0.100000    80.00000  ...   \n",
       "25%       1.000000     0.000000    18.000000     0.300000   109.75000  ...   \n",
       "50%       3.000000     0.000000    34.500000     0.500000   139.00000  ...   \n",
       "75%       7.000000     1.000000    49.000000     0.800000   170.00000  ...   \n",
       "max      19.000000     1.000000    64.000000     1.000000   200.00000  ...   \n",
       "\n",
       "         px_height     px_width          ram         sc_h         sc_w  \\\n",
       "count  1000.000000  1000.000000  1000.000000  1000.000000  1000.000000   \n",
       "mean    627.121000  1239.774000  2138.998000    11.995000     5.316000   \n",
       "std     432.929699   439.670981  1088.092278     4.320607     4.240062   \n",
       "min       0.000000   501.000000   263.000000     5.000000     0.000000   \n",
       "25%     263.750000   831.750000  1237.250000     8.000000     2.000000   \n",
       "50%     564.500000  1250.000000  2153.500000    12.000000     5.000000   \n",
       "75%     903.000000  1637.750000  3065.500000    16.000000     8.000000   \n",
       "max    1907.000000  1998.000000  3989.000000    19.000000    18.000000   \n",
       "\n",
       "         talk_time      three_g  touch_screen         wifi  price_range  \n",
       "count  1000.000000  1000.000000    1000.00000  1000.000000  1000.000000  \n",
       "mean     11.085000     0.756000       0.50000     0.507000     0.955000  \n",
       "std       5.497636     0.429708       0.50025     0.500201     0.848348  \n",
       "min       2.000000     0.000000       0.00000     0.000000     0.000000  \n",
       "25%       6.750000     1.000000       0.00000     0.000000     0.000000  \n",
       "50%      11.000000     1.000000       0.50000     1.000000     1.000000  \n",
       "75%      16.000000     1.000000       1.00000     1.000000     2.000000  \n",
       "max      20.000000     1.000000       1.00000     1.000000     2.000000  \n",
       "\n",
       "[8 rows x 22 columns]"
      ]
     },
     "execution_count": 94,
     "metadata": {},
     "output_type": "execute_result"
    }
   ],
   "source": [
    "df.describe()"
   ]
  },
  {
   "cell_type": "markdown",
   "id": "9f1de5d7",
   "metadata": {},
   "source": [
    "In this dataset we have to predict the price range not the actual price.\n",
    "So we do not have the domain knowledge, we can predict the price range by Elbow Method."
   ]
  },
  {
   "cell_type": "code",
   "execution_count": 3,
   "id": "43000392",
   "metadata": {},
   "outputs": [
    {
     "data": {
      "text/plain": [
       "array([[1.043e+03, 1.000e+00, 1.800e+00, ..., 0.000e+00, 1.000e+00,\n",
       "        0.000e+00],\n",
       "       [8.410e+02, 1.000e+00, 5.000e-01, ..., 1.000e+00, 0.000e+00,\n",
       "        0.000e+00],\n",
       "       [1.807e+03, 1.000e+00, 2.800e+00, ..., 0.000e+00, 1.000e+00,\n",
       "        1.000e+00],\n",
       "       ...,\n",
       "       [1.185e+03, 0.000e+00, 1.400e+00, ..., 1.000e+00, 0.000e+00,\n",
       "        0.000e+00],\n",
       "       [1.533e+03, 1.000e+00, 5.000e-01, ..., 0.000e+00, 1.000e+00,\n",
       "        0.000e+00],\n",
       "       [1.270e+03, 1.000e+00, 5.000e-01, ..., 1.000e+00, 0.000e+00,\n",
       "        1.000e+00]])"
      ]
     },
     "execution_count": 3,
     "metadata": {},
     "output_type": "execute_result"
    }
   ],
   "source": [
    "x = df.iloc[:,[1,2,3,4,5,6,7,8,9,10,11,12,13,14,15,16,17,18,19,20]].values\n",
    "x"
   ]
  },
  {
   "cell_type": "code",
   "execution_count": 4,
   "id": "4fd13faf",
   "metadata": {},
   "outputs": [],
   "source": [
    "from sklearn.cluster import KMeans"
   ]
  },
  {
   "cell_type": "markdown",
   "id": "07538696",
   "metadata": {},
   "source": [
    "### Elbow Method"
   ]
  },
  {
   "cell_type": "code",
   "execution_count": 5,
   "id": "3329624d",
   "metadata": {},
   "outputs": [],
   "source": [
    "inertia = []\n",
    "for i in range(1,31):\n",
    "    km = KMeans(n_clusters=i,init='k-means++',n_init=10,max_iter=300,random_state=1)\n",
    "    km.fit(x)\n",
    "    inertia.append(km.inertia_)"
   ]
  },
  {
   "cell_type": "code",
   "execution_count": 6,
   "id": "4b99219b",
   "metadata": {},
   "outputs": [
    {
     "data": {
      "text/plain": [
       "[1751624899.20094,\n",
       " 862853287.2201977,\n",
       " 700868145.0105304,\n",
       " 609872839.7657746,\n",
       " 540420702.1426412,\n",
       " 490476214.7828038,\n",
       " 449838718.2130875,\n",
       " 421709874.79532146,\n",
       " 394089546.343515,\n",
       " 374928802.4840133,\n",
       " 353998557.83615637,\n",
       " 334824953.073415,\n",
       " 319999152.1826168,\n",
       " 302735202.61512417,\n",
       " 292581242.12384063,\n",
       " 279466108.9028269,\n",
       " 270642049.84222263,\n",
       " 258907633.4061486,\n",
       " 248947724.5370626,\n",
       " 242510551.43620825,\n",
       " 236347771.3292517,\n",
       " 229155003.42753556,\n",
       " 223376044.3591588,\n",
       " 216373129.0322503,\n",
       " 211654423.16729993,\n",
       " 206579596.21250102,\n",
       " 200185499.08988923,\n",
       " 198479821.52015033,\n",
       " 193577797.76088086,\n",
       " 189713750.56239966]"
      ]
     },
     "execution_count": 6,
     "metadata": {},
     "output_type": "execute_result"
    }
   ],
   "source": [
    "inertia"
   ]
  },
  {
   "cell_type": "code",
   "execution_count": 7,
   "id": "13d0bad0",
   "metadata": {},
   "outputs": [
    {
     "data": {
      "text/plain": [
       "<function matplotlib.pyplot.show(close=None, block=None)>"
      ]
     },
     "execution_count": 7,
     "metadata": {},
     "output_type": "execute_result"
    },
    {
     "data": {
      "image/png": "[encoded data removed]",
      "text/plain": [
       "<Figure size 700x500 with 1 Axes>"
      ]
     },
     "metadata": {},
     "output_type": "display_data"
    }
   ],
   "source": [
    "plt.figure(figsize=(7,5))\n",
    "plt.plot(range(1,31),inertia,marker='o')\n",
    "plt.show"
   ]
  },
  {
   "cell_type": "code",
   "execution_count": 8,
   "id": "cd76d507",
   "metadata": {},
   "outputs": [],
   "source": [
    "km = KMeans(n_clusters=3,init='k-means++',n_init=10,max_iter=300,random_state=1)\n",
    "labels=km.fit_predict(x)"
   ]
  },
  {
   "cell_type": "code",
   "execution_count": 9,
   "id": "d5c4c092",
   "metadata": {},
   "outputs": [
    {
     "data": {
      "text/plain": [
       "array([0, 0, 2, 0, 2, 0, 0, 2, 0, 1, 0, 0, 1, 1, 0, 1, 2, 2, 0, 2, 1, 0,\n",
       "       2, 2, 0, 1, 2, 1, 0, 1, 2, 1, 0, 1, 1, 2, 0, 2, 0, 2, 1, 0, 1, 1,\n",
       "       1, 1, 2, 0, 2, 0, 2, 1, 0, 2, 0, 1, 0, 1, 2, 0, 0, 0, 2, 2, 1, 2,\n",
       "       1, 0, 2, 2, 2, 2, 0, 0, 0, 1, 0, 1, 2, 0, 1, 0, 0, 1, 0, 1, 0, 2,\n",
       "       0, 1, 2, 2, 0, 1, 0, 2, 1, 2, 2, 0, 2, 1, 1, 0, 2, 2, 1, 1, 0, 0,\n",
       "       0, 0, 2, 0, 0, 0, 0, 2, 0, 1, 1, 0, 0, 2, 2, 1, 0, 0, 0, 1, 1, 2,\n",
       "       2, 2, 0, 2, 2, 1, 0, 0, 2, 0, 2, 2, 0, 0, 0, 0, 2, 0, 0, 0, 1, 1,\n",
       "       0, 2, 0, 0, 0, 0, 0, 0, 0, 0, 0, 0, 1, 1, 0, 1, 1, 1, 2, 1, 1, 2,\n",
       "       1, 1, 2, 2, 1, 1, 1, 1, 0, 0, 2, 2, 1, 1, 1, 1, 1, 0, 2, 1, 0, 2,\n",
       "       0, 0, 2, 0, 0, 0, 0, 2, 0, 1, 1, 2, 2, 0, 2, 0, 0, 0, 1, 0, 1, 0,\n",
       "       0, 0, 0, 1, 1, 2, 1, 0, 1, 2, 1, 0, 2, 1, 0, 1, 0, 1, 0, 2, 2, 1,\n",
       "       1, 0, 2, 0, 0, 0, 2, 2, 0, 1, 1, 0, 0, 0, 2, 0, 2, 1, 0, 2, 2, 0,\n",
       "       0, 0, 0, 2, 1, 2, 2, 0, 2, 2, 0, 2, 1, 0, 1, 2, 2, 1, 1, 0, 0, 0,\n",
       "       0, 0, 2, 0, 0, 2, 0, 2, 2, 1, 2, 1, 0, 0, 2, 1, 1, 0, 1, 0, 1, 2,\n",
       "       2, 1, 2, 0, 2, 0, 2, 0, 1, 0, 1, 1, 1, 1, 0, 2, 1, 1, 1, 0, 2, 2,\n",
       "       0, 0, 2, 0, 0, 0, 0, 2, 0, 0, 0, 0, 0, 0, 0, 1, 0, 1, 0, 2, 0, 2,\n",
       "       0, 0, 1, 2, 2, 0, 2, 0, 2, 0, 1, 1, 1, 1, 0, 1, 2, 2, 2, 2, 2, 0,\n",
       "       0, 1, 2, 1, 1, 0, 0, 2, 0, 2, 2, 0, 2, 2, 0, 2, 2, 0, 0, 2, 2, 1,\n",
       "       2, 1, 1, 0, 0, 1, 1, 2, 1, 1, 1, 1, 1, 1, 1, 2, 2, 0, 2, 0, 1, 0,\n",
       "       2, 0, 1, 2, 1, 2, 2, 1, 0, 0, 0, 0, 1, 0, 2, 0, 2, 0, 2, 2, 0, 2,\n",
       "       2, 2, 1, 1, 1, 2, 2, 2, 1, 0, 0, 2, 0, 0, 1, 1, 0, 2, 2, 1, 0, 2,\n",
       "       0, 1, 0, 2, 2, 0, 0, 0, 1, 2, 1, 2, 0, 1, 2, 2, 1, 1, 2, 2, 2, 0,\n",
       "       0, 0, 0, 0, 2, 2, 0, 0, 0, 0, 2, 2, 0, 2, 2, 0, 2, 1, 2, 0, 1, 2,\n",
       "       1, 0, 2, 1, 0, 2, 0, 1, 0, 1, 0, 0, 1, 0, 1, 0, 0, 1, 2, 2, 0, 0,\n",
       "       2, 1, 0, 0, 0, 1, 0, 2, 0, 1, 0, 0, 1, 2, 0, 0, 0, 1, 2, 2, 0, 2,\n",
       "       0, 0, 0, 2, 1, 2, 1, 0, 2, 1, 0, 2, 0, 2, 1, 0, 0, 0, 2, 0, 0, 2,\n",
       "       2, 2, 0, 0, 0, 2, 1, 2, 2, 2, 0, 2, 2, 1, 0, 0, 0, 2, 1, 0, 2, 0,\n",
       "       0, 1, 2, 0, 2, 2, 2, 1, 1, 1, 2, 1, 1, 2, 1, 2, 2, 1, 0, 0, 2, 1,\n",
       "       0, 1, 1, 0, 0, 1, 1, 1, 1, 1, 0, 1, 0, 1, 0, 2, 2, 0, 0, 1, 2, 2,\n",
       "       0, 2, 0, 2, 1, 0, 1, 2, 2, 0, 1, 2, 2, 1, 2, 0, 1, 0, 1, 0, 0, 2,\n",
       "       2, 0, 2, 1, 2, 0, 1, 0, 0, 1, 2, 2, 2, 0, 1, 0, 0, 1, 0, 0, 0, 1,\n",
       "       1, 0, 1, 2, 2, 0, 2, 2, 2, 0, 2, 2, 0, 1, 2, 1, 2, 0, 2, 1, 1, 2,\n",
       "       1, 1, 0, 1, 2, 2, 1, 2, 2, 1, 0, 1, 0, 0, 0, 1, 1, 2, 2, 2, 2, 1,\n",
       "       2, 2, 1, 2, 2, 1, 1, 0, 0, 2, 0, 2, 0, 0, 1, 2, 1, 2, 2, 1, 0, 2,\n",
       "       1, 0, 1, 2, 1, 0, 0, 0, 2, 0, 1, 0, 2, 1, 2, 1, 0, 0, 2, 1, 2, 2,\n",
       "       0, 2, 1, 0, 0, 2, 0, 2, 2, 2, 1, 2, 0, 2, 2, 2, 0, 1, 1, 2, 2, 1,\n",
       "       0, 1, 1, 1, 1, 0, 0, 0, 0, 1, 2, 2, 2, 2, 1, 1, 0, 2, 1, 2, 1, 2,\n",
       "       0, 0, 2, 0, 1, 2, 2, 0, 1, 1, 0, 2, 0, 1, 1, 2, 2, 2, 2, 0, 0, 2,\n",
       "       1, 1, 0, 0, 1, 0, 1, 1, 1, 2, 2, 1, 0, 1, 0, 2, 2, 2, 0, 0, 1, 2,\n",
       "       2, 0, 1, 0, 0, 1, 2, 0, 2, 2, 0, 2, 0, 0, 2, 2, 2, 2, 0, 0, 1, 0,\n",
       "       0, 1, 0, 0, 2, 2, 2, 0, 2, 2, 2, 2, 1, 2, 2, 2, 2, 0, 2, 2, 2, 1,\n",
       "       1, 2, 0, 1, 1, 2, 2, 0, 2, 1, 1, 0, 0, 0, 0, 1, 0, 0, 0, 2, 0, 2,\n",
       "       2, 0, 2, 2, 2, 2, 0, 0, 1, 0, 1, 0, 0, 1, 0, 2, 0, 0, 2, 2, 0, 0,\n",
       "       2, 1, 2, 2, 0, 2, 0, 1, 2, 2, 1, 0, 0, 0, 0, 1, 2, 1, 1, 2, 0, 0,\n",
       "       0, 1, 0, 2, 0, 1, 0, 1, 2, 0, 1, 2, 1, 1, 0, 2, 2, 1, 2, 1, 1, 0,\n",
       "       0, 0, 2, 1, 1, 2, 2, 1, 2, 0])"
      ]
     },
     "execution_count": 9,
     "metadata": {},
     "output_type": "execute_result"
    }
   ],
   "source": [
    "labels"
   ]
  },
  {
   "cell_type": "code",
   "execution_count": 10,
   "id": "6300f211",
   "metadata": {},
   "outputs": [],
   "source": [
    "df['price_range'] = labels"
   ]
  },
  {
   "cell_type": "code",
   "execution_count": 11,
   "id": "1c1b904e",
   "metadata": {},
   "outputs": [
    {
     "data": {
      "text/html": [
       "<div>\n",
       "<style scoped>\n",
       "    .dataframe tbody tr th:only-of-type {\n",
       "        vertical-align: middle;\n",
       "    }\n",
       "\n",
       "    .dataframe tbody tr th {\n",
       "        vertical-align: top;\n",
       "    }\n",
       "\n",
       "    .dataframe thead th {\n",
       "        text-align: right;\n",
       "    }\n",
       "</style>\n",
       "<table border=\"1\" class=\"dataframe\">\n",
       "  <thead>\n",
       "    <tr style=\"text-align: right;\">\n",
       "      <th></th>\n",
       "      <th>id</th>\n",
       "      <th>battery_power</th>\n",
       "      <th>blue</th>\n",
       "      <th>clock_speed</th>\n",
       "      <th>dual_sim</th>\n",
       "      <th>fc</th>\n",
       "      <th>four_g</th>\n",
       "      <th>int_memory</th>\n",
       "      <th>m_dep</th>\n",
       "      <th>mobile_wt</th>\n",
       "      <th>...</th>\n",
       "      <th>px_height</th>\n",
       "      <th>px_width</th>\n",
       "      <th>ram</th>\n",
       "      <th>sc_h</th>\n",
       "      <th>sc_w</th>\n",
       "      <th>talk_time</th>\n",
       "      <th>three_g</th>\n",
       "      <th>touch_screen</th>\n",
       "      <th>wifi</th>\n",
       "      <th>price_range</th>\n",
       "    </tr>\n",
       "  </thead>\n",
       "  <tbody>\n",
       "    <tr>\n",
       "      <th>0</th>\n",
       "      <td>1</td>\n",
       "      <td>1043</td>\n",
       "      <td>1</td>\n",
       "      <td>1.8</td>\n",
       "      <td>1</td>\n",
       "      <td>14</td>\n",
       "      <td>0</td>\n",
       "      <td>5</td>\n",
       "      <td>0.1</td>\n",
       "      <td>193</td>\n",
       "      <td>...</td>\n",
       "      <td>226</td>\n",
       "      <td>1412</td>\n",
       "      <td>3476</td>\n",
       "      <td>12</td>\n",
       "      <td>7</td>\n",
       "      <td>2</td>\n",
       "      <td>0</td>\n",
       "      <td>1</td>\n",
       "      <td>0</td>\n",
       "      <td>0</td>\n",
       "    </tr>\n",
       "    <tr>\n",
       "      <th>1</th>\n",
       "      <td>2</td>\n",
       "      <td>841</td>\n",
       "      <td>1</td>\n",
       "      <td>0.5</td>\n",
       "      <td>1</td>\n",
       "      <td>4</td>\n",
       "      <td>1</td>\n",
       "      <td>61</td>\n",
       "      <td>0.8</td>\n",
       "      <td>191</td>\n",
       "      <td>...</td>\n",
       "      <td>746</td>\n",
       "      <td>857</td>\n",
       "      <td>3895</td>\n",
       "      <td>6</td>\n",
       "      <td>0</td>\n",
       "      <td>7</td>\n",
       "      <td>1</td>\n",
       "      <td>0</td>\n",
       "      <td>0</td>\n",
       "      <td>0</td>\n",
       "    </tr>\n",
       "    <tr>\n",
       "      <th>2</th>\n",
       "      <td>3</td>\n",
       "      <td>1807</td>\n",
       "      <td>1</td>\n",
       "      <td>2.8</td>\n",
       "      <td>0</td>\n",
       "      <td>1</td>\n",
       "      <td>0</td>\n",
       "      <td>27</td>\n",
       "      <td>0.9</td>\n",
       "      <td>186</td>\n",
       "      <td>...</td>\n",
       "      <td>1270</td>\n",
       "      <td>1366</td>\n",
       "      <td>2396</td>\n",
       "      <td>17</td>\n",
       "      <td>10</td>\n",
       "      <td>10</td>\n",
       "      <td>0</td>\n",
       "      <td>1</td>\n",
       "      <td>1</td>\n",
       "      <td>2</td>\n",
       "    </tr>\n",
       "    <tr>\n",
       "      <th>3</th>\n",
       "      <td>4</td>\n",
       "      <td>1546</td>\n",
       "      <td>0</td>\n",
       "      <td>0.5</td>\n",
       "      <td>1</td>\n",
       "      <td>18</td>\n",
       "      <td>1</td>\n",
       "      <td>25</td>\n",
       "      <td>0.5</td>\n",
       "      <td>96</td>\n",
       "      <td>...</td>\n",
       "      <td>295</td>\n",
       "      <td>1752</td>\n",
       "      <td>3893</td>\n",
       "      <td>10</td>\n",
       "      <td>0</td>\n",
       "      <td>7</td>\n",
       "      <td>1</td>\n",
       "      <td>1</td>\n",
       "      <td>0</td>\n",
       "      <td>0</td>\n",
       "    </tr>\n",
       "    <tr>\n",
       "      <th>4</th>\n",
       "      <td>5</td>\n",
       "      <td>1434</td>\n",
       "      <td>0</td>\n",
       "      <td>1.4</td>\n",
       "      <td>0</td>\n",
       "      <td>11</td>\n",
       "      <td>1</td>\n",
       "      <td>49</td>\n",
       "      <td>0.5</td>\n",
       "      <td>108</td>\n",
       "      <td>...</td>\n",
       "      <td>749</td>\n",
       "      <td>810</td>\n",
       "      <td>1773</td>\n",
       "      <td>15</td>\n",
       "      <td>8</td>\n",
       "      <td>7</td>\n",
       "      <td>1</td>\n",
       "      <td>0</td>\n",
       "      <td>1</td>\n",
       "      <td>2</td>\n",
       "    </tr>\n",
       "    <tr>\n",
       "      <th>...</th>\n",
       "      <td>...</td>\n",
       "      <td>...</td>\n",
       "      <td>...</td>\n",
       "      <td>...</td>\n",
       "      <td>...</td>\n",
       "      <td>...</td>\n",
       "      <td>...</td>\n",
       "      <td>...</td>\n",
       "      <td>...</td>\n",
       "      <td>...</td>\n",
       "      <td>...</td>\n",
       "      <td>...</td>\n",
       "      <td>...</td>\n",
       "      <td>...</td>\n",
       "      <td>...</td>\n",
       "      <td>...</td>\n",
       "      <td>...</td>\n",
       "      <td>...</td>\n",
       "      <td>...</td>\n",
       "      <td>...</td>\n",
       "      <td>...</td>\n",
       "    </tr>\n",
       "    <tr>\n",
       "      <th>995</th>\n",
       "      <td>996</td>\n",
       "      <td>1700</td>\n",
       "      <td>1</td>\n",
       "      <td>1.9</td>\n",
       "      <td>0</td>\n",
       "      <td>0</td>\n",
       "      <td>1</td>\n",
       "      <td>54</td>\n",
       "      <td>0.5</td>\n",
       "      <td>170</td>\n",
       "      <td>...</td>\n",
       "      <td>644</td>\n",
       "      <td>913</td>\n",
       "      <td>2121</td>\n",
       "      <td>14</td>\n",
       "      <td>8</td>\n",
       "      <td>15</td>\n",
       "      <td>1</td>\n",
       "      <td>1</td>\n",
       "      <td>0</td>\n",
       "      <td>2</td>\n",
       "    </tr>\n",
       "    <tr>\n",
       "      <th>996</th>\n",
       "      <td>997</td>\n",
       "      <td>609</td>\n",
       "      <td>0</td>\n",
       "      <td>1.8</td>\n",
       "      <td>1</td>\n",
       "      <td>0</td>\n",
       "      <td>0</td>\n",
       "      <td>13</td>\n",
       "      <td>0.9</td>\n",
       "      <td>186</td>\n",
       "      <td>...</td>\n",
       "      <td>1152</td>\n",
       "      <td>1632</td>\n",
       "      <td>1933</td>\n",
       "      <td>8</td>\n",
       "      <td>1</td>\n",
       "      <td>19</td>\n",
       "      <td>0</td>\n",
       "      <td>1</td>\n",
       "      <td>1</td>\n",
       "      <td>2</td>\n",
       "    </tr>\n",
       "    <tr>\n",
       "      <th>997</th>\n",
       "      <td>998</td>\n",
       "      <td>1185</td>\n",
       "      <td>0</td>\n",
       "      <td>1.4</td>\n",
       "      <td>0</td>\n",
       "      <td>1</td>\n",
       "      <td>1</td>\n",
       "      <td>8</td>\n",
       "      <td>0.5</td>\n",
       "      <td>80</td>\n",
       "      <td>...</td>\n",
       "      <td>477</td>\n",
       "      <td>825</td>\n",
       "      <td>1223</td>\n",
       "      <td>5</td>\n",
       "      <td>0</td>\n",
       "      <td>14</td>\n",
       "      <td>1</td>\n",
       "      <td>0</td>\n",
       "      <td>0</td>\n",
       "      <td>1</td>\n",
       "    </tr>\n",
       "    <tr>\n",
       "      <th>998</th>\n",
       "      <td>999</td>\n",
       "      <td>1533</td>\n",
       "      <td>1</td>\n",
       "      <td>0.5</td>\n",
       "      <td>1</td>\n",
       "      <td>0</td>\n",
       "      <td>0</td>\n",
       "      <td>50</td>\n",
       "      <td>0.4</td>\n",
       "      <td>171</td>\n",
       "      <td>...</td>\n",
       "      <td>38</td>\n",
       "      <td>832</td>\n",
       "      <td>2509</td>\n",
       "      <td>15</td>\n",
       "      <td>11</td>\n",
       "      <td>6</td>\n",
       "      <td>0</td>\n",
       "      <td>1</td>\n",
       "      <td>0</td>\n",
       "      <td>2</td>\n",
       "    </tr>\n",
       "    <tr>\n",
       "      <th>999</th>\n",
       "      <td>1000</td>\n",
       "      <td>1270</td>\n",
       "      <td>1</td>\n",
       "      <td>0.5</td>\n",
       "      <td>0</td>\n",
       "      <td>4</td>\n",
       "      <td>1</td>\n",
       "      <td>35</td>\n",
       "      <td>0.1</td>\n",
       "      <td>140</td>\n",
       "      <td>...</td>\n",
       "      <td>457</td>\n",
       "      <td>608</td>\n",
       "      <td>2828</td>\n",
       "      <td>9</td>\n",
       "      <td>2</td>\n",
       "      <td>3</td>\n",
       "      <td>1</td>\n",
       "      <td>0</td>\n",
       "      <td>1</td>\n",
       "      <td>0</td>\n",
       "    </tr>\n",
       "  </tbody>\n",
       "</table>\n",
       "<p>1000 rows × 22 columns</p>\n",
       "</div>"
      ],
      "text/plain": [
       "       id  battery_power  blue  clock_speed  dual_sim  fc  four_g  int_memory  \\\n",
       "0       1           1043     1          1.8         1  14       0           5   \n",
       "1       2            841     1          0.5         1   4       1          61   \n",
       "2       3           1807     1          2.8         0   1       0          27   \n",
       "3       4           1546     0          0.5         1  18       1          25   \n",
       "4       5           1434     0          1.4         0  11       1          49   \n",
       "..    ...            ...   ...          ...       ...  ..     ...         ...   \n",
       "995   996           1700     1          1.9         0   0       1          54   \n",
       "996   997            609     0          1.8         1   0       0          13   \n",
       "997   998           1185     0          1.4         0   1       1           8   \n",
       "998   999           1533     1          0.5         1   0       0          50   \n",
       "999  1000           1270     1          0.5         0   4       1          35   \n",
       "\n",
       "     m_dep  mobile_wt  ...  px_height  px_width   ram  sc_h  sc_w  talk_time  \\\n",
       "0      0.1        193  ...        226      1412  3476    12     7          2   \n",
       "1      0.8        191  ...        746       857  3895     6     0          7   \n",
       "2      0.9        186  ...       1270      1366  2396    17    10         10   \n",
       "3      0.5         96  ...        295      1752  3893    10     0          7   \n",
       "4      0.5        108  ...        749       810  1773    15     8          7   \n",
       "..     ...        ...  ...        ...       ...   ...   ...   ...        ...   \n",
       "995    0.5        170  ...        644       913  2121    14     8         15   \n",
       "996    0.9        186  ...       1152      1632  1933     8     1         19   \n",
       "997    0.5         80  ...        477       825  1223     5     0         14   \n",
       "998    0.4        171  ...         38       832  2509    15    11          6   \n",
       "999    0.1        140  ...        457       608  2828     9     2          3   \n",
       "\n",
       "     three_g  touch_screen  wifi  price_range  \n",
       "0          0             1     0            0  \n",
       "1          1             0     0            0  \n",
       "2          0             1     1            2  \n",
       "3          1             1     0            0  \n",
       "4          1             0     1            2  \n",
       "..       ...           ...   ...          ...  \n",
       "995        1             1     0            2  \n",
       "996        0             1     1            2  \n",
       "997        1             0     0            1  \n",
       "998        0             1     0            2  \n",
       "999        1             0     1            0  \n",
       "\n",
       "[1000 rows x 22 columns]"
      ]
     },
     "execution_count": 11,
     "metadata": {},
     "output_type": "execute_result"
    }
   ],
   "source": [
    "df"
   ]
  },
  {
   "cell_type": "markdown",
   "id": "95c3ae86",
   "metadata": {},
   "source": [
    "### According the Information we get from the dataset:-\n",
    "    0 = Expensive\n",
    "    1 = Bit Expensive\n",
    "    2 = Affordable"
   ]
  },
  {
   "cell_type": "code",
   "execution_count": 12,
   "id": "769c6506",
   "metadata": {},
   "outputs": [
    {
     "data": {
      "text/plain": [
       "array([0, 2, 1])"
      ]
     },
     "execution_count": 12,
     "metadata": {},
     "output_type": "execute_result"
    }
   ],
   "source": [
    "df['price_range'].unique()"
   ]
  },
  {
   "cell_type": "markdown",
   "id": "2ce751aa",
   "metadata": {},
   "source": [
    "# VISUALIZATIONS"
   ]
  },
  {
   "cell_type": "code",
   "execution_count": 13,
   "id": "aaa98b33",
   "metadata": {},
   "outputs": [
    {
     "data": {
      "text/plain": [
       "<AxesSubplot:xlabel='price_range', ylabel='count'>"
      ]
     },
     "execution_count": 13,
     "metadata": {},
     "output_type": "execute_result"
    },
    {
     "data": {
      "image/png": "[encoded data removed]",
      "text/plain": [
       "<Figure size 640x480 with 1 Axes>"
      ]
     },
     "metadata": {},
     "output_type": "display_data"
    }
   ],
   "source": [
    "sns.countplot(x='price_range',data=df)"
   ]
  },
  {
   "cell_type": "code",
   "execution_count": 14,
   "id": "f6ec7201",
   "metadata": {},
   "outputs": [],
   "source": [
    "def plots(x):\n",
    "    plt.figure(figsize=(7,4))\n",
    "    plt.subplot(1,2,1)\n",
    "    sns.histplot(df[x])\n",
    "    plt.subplot(1,2,2)\n",
    "    sns.distplot(df[x])\n",
    "    plt.tight_layout(pad = 1.0)\n",
    "    plt.axvline(df[x].mean(),color='red',label='mean')\n",
    "    plt.axvline(df[x].median(),color='black',label='median')\n",
    "    plt.legend()"
   ]
  },
  {
   "cell_type": "code",
   "execution_count": 15,
   "id": "e3d1aedf",
   "metadata": {},
   "outputs": [
    {
     "data": {
      "image/png": "[encoded data removed]",
      "text/plain": [
       "<Figure size 700x400 with 2 Axes>"
      ]
     },
     "metadata": {},
     "output_type": "display_data"
    }
   ],
   "source": [
    "plots('battery_power')"
   ]
  },
  {
   "cell_type": "code",
   "execution_count": 16,
   "id": "da16d927",
   "metadata": {},
   "outputs": [
    {
     "data": {
      "image/png": "[encoded data removed]",
      "text/plain": [
       "<Figure size 700x400 with 2 Axes>"
      ]
     },
     "metadata": {},
     "output_type": "display_data"
    }
   ],
   "source": [
    "plots('int_memory')"
   ]
  },
  {
   "cell_type": "code",
   "execution_count": 17,
   "id": "7d10a664",
   "metadata": {},
   "outputs": [
    {
     "data": {
      "image/png": "[encoded data removed]",
      "text/plain": [
       "<Figure size 700x400 with 2 Axes>"
      ]
     },
     "metadata": {},
     "output_type": "display_data"
    }
   ],
   "source": [
    "plots('ram')"
   ]
  },
  {
   "cell_type": "code",
   "execution_count": 18,
   "id": "26b6bbc5",
   "metadata": {},
   "outputs": [
    {
     "data": {
      "text/plain": [
       "<AxesSubplot:xlabel='wifi', ylabel='count'>"
      ]
     },
     "execution_count": 18,
     "metadata": {},
     "output_type": "execute_result"
    },
    {
     "data": {
      "image/png": "[encoded data removed]",
      "text/plain": [
       "<Figure size 640x480 with 1 Axes>"
      ]
     },
     "metadata": {},
     "output_type": "display_data"
    }
   ],
   "source": [
    "sns.countplot(x='wifi',data=df)"
   ]
  },
  {
   "cell_type": "code",
   "execution_count": 19,
   "id": "e5dd7db8",
   "metadata": {},
   "outputs": [
    {
     "data": {
      "text/plain": [
       "<AxesSubplot:xlabel='dual_sim', ylabel='count'>"
      ]
     },
     "execution_count": 19,
     "metadata": {},
     "output_type": "execute_result"
    },
    {
     "data": {
      "image/png": "[encoded data removed]",
      "text/plain": [
       "<Figure size 640x480 with 1 Axes>"
      ]
     },
     "metadata": {},
     "output_type": "display_data"
    }
   ],
   "source": [
    "sns.countplot(x='dual_sim',data=df)"
   ]
  },
  {
   "cell_type": "code",
   "execution_count": 20,
   "id": "236113d1",
   "metadata": {},
   "outputs": [
    {
     "data": {
      "text/plain": [
       "<AxesSubplot:xlabel='blue', ylabel='count'>"
      ]
     },
     "execution_count": 20,
     "metadata": {},
     "output_type": "execute_result"
    },
    {
     "data": {
      "image/png": "[encoded data removed]",
      "text/plain": [
       "<Figure size 640x480 with 1 Axes>"
      ]
     },
     "metadata": {},
     "output_type": "display_data"
    }
   ],
   "source": [
    "sns.countplot(x='blue',data=df)"
   ]
  },
  {
   "cell_type": "code",
   "execution_count": 21,
   "id": "c814acb6",
   "metadata": {},
   "outputs": [
    {
     "data": {
      "text/plain": [
       "<AxesSubplot:xlabel='touch_screen', ylabel='count'>"
      ]
     },
     "execution_count": 21,
     "metadata": {},
     "output_type": "execute_result"
    },
    {
     "data": {
      "image/png": "[encoded data removed]",
      "text/plain": [
       "<Figure size 640x480 with 1 Axes>"
      ]
     },
     "metadata": {},
     "output_type": "display_data"
    }
   ],
   "source": [
    "sns.countplot(x='touch_screen',data=df)"
   ]
  },
  {
   "cell_type": "code",
   "execution_count": 22,
   "id": "73a4ccd8",
   "metadata": {},
   "outputs": [
    {
     "data": {
      "text/plain": [
       "<AxesSubplot:ylabel='three_g'>"
      ]
     },
     "execution_count": 22,
     "metadata": {},
     "output_type": "execute_result"
    },
    {
     "data": {
      "image/png": "[encoded data removed]",
      "text/plain": [
       "<Figure size 640x480 with 1 Axes>"
      ]
     },
     "metadata": {},
     "output_type": "display_data"
    }
   ],
   "source": [
    "df['three_g'].value_counts().plot(kind='pie',autopct='%1f2%%')"
   ]
  },
  {
   "cell_type": "code",
   "execution_count": 23,
   "id": "8fd57c79",
   "metadata": {},
   "outputs": [
    {
     "data": {
      "text/plain": [
       "<AxesSubplot:ylabel='four_g'>"
      ]
     },
     "execution_count": 23,
     "metadata": {},
     "output_type": "execute_result"
    },
    {
     "data": {
      "image/png": "[encoded data removed]",
      "text/plain": [
       "<Figure size 640x480 with 1 Axes>"
      ]
     },
     "metadata": {},
     "output_type": "display_data"
    }
   ],
   "source": [
    "df['four_g'].value_counts().plot(kind='pie',autopct='%1f2%%')"
   ]
  },
  {
   "cell_type": "code",
   "execution_count": 54,
   "id": "dcaeaf7c",
   "metadata": {},
   "outputs": [
    {
     "data": {
      "text/html": [
       "<div>\n",
       "<style scoped>\n",
       "    .dataframe tbody tr th:only-of-type {\n",
       "        vertical-align: middle;\n",
       "    }\n",
       "\n",
       "    .dataframe tbody tr th {\n",
       "        vertical-align: top;\n",
       "    }\n",
       "\n",
       "    .dataframe thead th {\n",
       "        text-align: right;\n",
       "    }\n",
       "</style>\n",
       "<table border=\"1\" class=\"dataframe\">\n",
       "  <thead>\n",
       "    <tr style=\"text-align: right;\">\n",
       "      <th></th>\n",
       "      <th>id</th>\n",
       "      <th>battery_power</th>\n",
       "      <th>blue</th>\n",
       "      <th>clock_speed</th>\n",
       "      <th>dual_sim</th>\n",
       "      <th>fc</th>\n",
       "      <th>four_g</th>\n",
       "      <th>int_memory</th>\n",
       "      <th>m_dep</th>\n",
       "      <th>mobile_wt</th>\n",
       "      <th>...</th>\n",
       "      <th>px_height</th>\n",
       "      <th>px_width</th>\n",
       "      <th>ram</th>\n",
       "      <th>sc_h</th>\n",
       "      <th>sc_w</th>\n",
       "      <th>talk_time</th>\n",
       "      <th>three_g</th>\n",
       "      <th>touch_screen</th>\n",
       "      <th>wifi</th>\n",
       "      <th>price_range</th>\n",
       "    </tr>\n",
       "  </thead>\n",
       "  <tbody>\n",
       "    <tr>\n",
       "      <th>id</th>\n",
       "      <td>1.000000</td>\n",
       "      <td>-0.021511</td>\n",
       "      <td>0.000464</td>\n",
       "      <td>0.035917</td>\n",
       "      <td>-0.002721</td>\n",
       "      <td>0.016934</td>\n",
       "      <td>0.030921</td>\n",
       "      <td>-0.014023</td>\n",
       "      <td>-0.002794</td>\n",
       "      <td>-0.007541</td>\n",
       "      <td>...</td>\n",
       "      <td>-0.025056</td>\n",
       "      <td>-0.012138</td>\n",
       "      <td>-0.043442</td>\n",
       "      <td>-0.011972</td>\n",
       "      <td>0.002918</td>\n",
       "      <td>0.030807</td>\n",
       "      <td>4.957099e-02</td>\n",
       "      <td>3.976791e-02</td>\n",
       "      <td>-0.036643</td>\n",
       "      <td>0.076493</td>\n",
       "    </tr>\n",
       "    <tr>\n",
       "      <th>battery_power</th>\n",
       "      <td>-0.021511</td>\n",
       "      <td>1.000000</td>\n",
       "      <td>-0.046610</td>\n",
       "      <td>-0.039075</td>\n",
       "      <td>-0.061171</td>\n",
       "      <td>-0.007846</td>\n",
       "      <td>-0.042520</td>\n",
       "      <td>0.003751</td>\n",
       "      <td>-0.009065</td>\n",
       "      <td>-0.047065</td>\n",
       "      <td>...</td>\n",
       "      <td>0.048647</td>\n",
       "      <td>0.053365</td>\n",
       "      <td>-0.032366</td>\n",
       "      <td>-0.055665</td>\n",
       "      <td>-0.023905</td>\n",
       "      <td>0.015546</td>\n",
       "      <td>3.151417e-02</td>\n",
       "      <td>-1.013784e-02</td>\n",
       "      <td>-0.000414</td>\n",
       "      <td>0.061677</td>\n",
       "    </tr>\n",
       "    <tr>\n",
       "      <th>blue</th>\n",
       "      <td>0.000464</td>\n",
       "      <td>-0.046610</td>\n",
       "      <td>1.000000</td>\n",
       "      <td>0.034754</td>\n",
       "      <td>-0.011100</td>\n",
       "      <td>-0.056063</td>\n",
       "      <td>-0.001169</td>\n",
       "      <td>-0.012416</td>\n",
       "      <td>0.018319</td>\n",
       "      <td>0.023513</td>\n",
       "      <td>...</td>\n",
       "      <td>-0.058810</td>\n",
       "      <td>-0.032054</td>\n",
       "      <td>0.057570</td>\n",
       "      <td>0.012780</td>\n",
       "      <td>0.004223</td>\n",
       "      <td>-0.031995</td>\n",
       "      <td>1.352986e-02</td>\n",
       "      <td>-6.003074e-02</td>\n",
       "      <td>0.025568</td>\n",
       "      <td>-0.046679</td>\n",
       "    </tr>\n",
       "    <tr>\n",
       "      <th>clock_speed</th>\n",
       "      <td>0.035917</td>\n",
       "      <td>-0.039075</td>\n",
       "      <td>0.034754</td>\n",
       "      <td>1.000000</td>\n",
       "      <td>-0.012423</td>\n",
       "      <td>0.010127</td>\n",
       "      <td>-0.024665</td>\n",
       "      <td>-0.030487</td>\n",
       "      <td>0.016995</td>\n",
       "      <td>-0.014107</td>\n",
       "      <td>...</td>\n",
       "      <td>0.017277</td>\n",
       "      <td>0.070585</td>\n",
       "      <td>-0.000650</td>\n",
       "      <td>-0.039503</td>\n",
       "      <td>-0.027138</td>\n",
       "      <td>-0.078797</td>\n",
       "      <td>-2.140644e-02</td>\n",
       "      <td>6.189276e-02</td>\n",
       "      <td>-0.048593</td>\n",
       "      <td>0.009449</td>\n",
       "    </tr>\n",
       "    <tr>\n",
       "      <th>dual_sim</th>\n",
       "      <td>-0.002721</td>\n",
       "      <td>-0.061171</td>\n",
       "      <td>-0.011100</td>\n",
       "      <td>-0.012423</td>\n",
       "      <td>1.000000</td>\n",
       "      <td>0.057606</td>\n",
       "      <td>0.024907</td>\n",
       "      <td>-0.012158</td>\n",
       "      <td>0.021760</td>\n",
       "      <td>-0.001734</td>\n",
       "      <td>...</td>\n",
       "      <td>0.006842</td>\n",
       "      <td>0.015610</td>\n",
       "      <td>0.048171</td>\n",
       "      <td>0.006295</td>\n",
       "      <td>-0.002064</td>\n",
       "      <td>0.004390</td>\n",
       "      <td>6.895838e-04</td>\n",
       "      <td>3.401967e-02</td>\n",
       "      <td>0.031545</td>\n",
       "      <td>-0.051296</td>\n",
       "    </tr>\n",
       "    <tr>\n",
       "      <th>fc</th>\n",
       "      <td>0.016934</td>\n",
       "      <td>-0.007846</td>\n",
       "      <td>-0.056063</td>\n",
       "      <td>0.010127</td>\n",
       "      <td>0.057606</td>\n",
       "      <td>1.000000</td>\n",
       "      <td>0.032832</td>\n",
       "      <td>-0.006565</td>\n",
       "      <td>0.020859</td>\n",
       "      <td>0.018353</td>\n",
       "      <td>...</td>\n",
       "      <td>-0.017982</td>\n",
       "      <td>0.030550</td>\n",
       "      <td>-0.051997</td>\n",
       "      <td>0.045158</td>\n",
       "      <td>0.006115</td>\n",
       "      <td>-0.051458</td>\n",
       "      <td>-1.112104e-02</td>\n",
       "      <td>1.546706e-02</td>\n",
       "      <td>-0.060373</td>\n",
       "      <td>0.044859</td>\n",
       "    </tr>\n",
       "    <tr>\n",
       "      <th>four_g</th>\n",
       "      <td>0.030921</td>\n",
       "      <td>-0.042520</td>\n",
       "      <td>-0.001169</td>\n",
       "      <td>-0.024665</td>\n",
       "      <td>0.024907</td>\n",
       "      <td>0.032832</td>\n",
       "      <td>1.000000</td>\n",
       "      <td>-0.037488</td>\n",
       "      <td>0.014806</td>\n",
       "      <td>-0.000509</td>\n",
       "      <td>...</td>\n",
       "      <td>0.033655</td>\n",
       "      <td>0.036545</td>\n",
       "      <td>0.030821</td>\n",
       "      <td>-0.015087</td>\n",
       "      <td>-0.000893</td>\n",
       "      <td>0.013692</td>\n",
       "      <td>5.535283e-01</td>\n",
       "      <td>-1.000338e-02</td>\n",
       "      <td>-0.035652</td>\n",
       "      <td>0.011597</td>\n",
       "    </tr>\n",
       "    <tr>\n",
       "      <th>int_memory</th>\n",
       "      <td>-0.014023</td>\n",
       "      <td>0.003751</td>\n",
       "      <td>-0.012416</td>\n",
       "      <td>-0.030487</td>\n",
       "      <td>-0.012158</td>\n",
       "      <td>-0.006565</td>\n",
       "      <td>-0.037488</td>\n",
       "      <td>1.000000</td>\n",
       "      <td>-0.004386</td>\n",
       "      <td>-0.010447</td>\n",
       "      <td>...</td>\n",
       "      <td>-0.009564</td>\n",
       "      <td>-0.003877</td>\n",
       "      <td>-0.007107</td>\n",
       "      <td>-0.009249</td>\n",
       "      <td>0.024521</td>\n",
       "      <td>0.023759</td>\n",
       "      <td>-1.592239e-02</td>\n",
       "      <td>2.218589e-02</td>\n",
       "      <td>0.011860</td>\n",
       "      <td>-0.017747</td>\n",
       "    </tr>\n",
       "    <tr>\n",
       "      <th>m_dep</th>\n",
       "      <td>-0.002794</td>\n",
       "      <td>-0.009065</td>\n",
       "      <td>0.018319</td>\n",
       "      <td>0.016995</td>\n",
       "      <td>0.021760</td>\n",
       "      <td>0.020859</td>\n",
       "      <td>0.014806</td>\n",
       "      <td>-0.004386</td>\n",
       "      <td>1.000000</td>\n",
       "      <td>-0.041994</td>\n",
       "      <td>...</td>\n",
       "      <td>0.062559</td>\n",
       "      <td>0.034861</td>\n",
       "      <td>0.018349</td>\n",
       "      <td>-0.026160</td>\n",
       "      <td>-0.023393</td>\n",
       "      <td>0.024124</td>\n",
       "      <td>-2.927827e-02</td>\n",
       "      <td>4.025363e-02</td>\n",
       "      <td>-0.039705</td>\n",
       "      <td>0.031876</td>\n",
       "    </tr>\n",
       "    <tr>\n",
       "      <th>mobile_wt</th>\n",
       "      <td>-0.007541</td>\n",
       "      <td>-0.047065</td>\n",
       "      <td>0.023513</td>\n",
       "      <td>-0.014107</td>\n",
       "      <td>-0.001734</td>\n",
       "      <td>0.018353</td>\n",
       "      <td>-0.000509</td>\n",
       "      <td>-0.010447</td>\n",
       "      <td>-0.041994</td>\n",
       "      <td>1.000000</td>\n",
       "      <td>...</td>\n",
       "      <td>0.011157</td>\n",
       "      <td>-0.014577</td>\n",
       "      <td>0.028786</td>\n",
       "      <td>-0.022053</td>\n",
       "      <td>0.022148</td>\n",
       "      <td>-0.021704</td>\n",
       "      <td>6.261881e-03</td>\n",
       "      <td>4.452531e-02</td>\n",
       "      <td>0.069762</td>\n",
       "      <td>0.010394</td>\n",
       "    </tr>\n",
       "    <tr>\n",
       "      <th>n_cores</th>\n",
       "      <td>-0.015935</td>\n",
       "      <td>0.025732</td>\n",
       "      <td>0.003283</td>\n",
       "      <td>-0.012247</td>\n",
       "      <td>-0.003129</td>\n",
       "      <td>0.020828</td>\n",
       "      <td>0.066716</td>\n",
       "      <td>0.021601</td>\n",
       "      <td>0.010062</td>\n",
       "      <td>-0.038908</td>\n",
       "      <td>...</td>\n",
       "      <td>-0.054433</td>\n",
       "      <td>-0.059388</td>\n",
       "      <td>-0.042750</td>\n",
       "      <td>-0.034057</td>\n",
       "      <td>0.012830</td>\n",
       "      <td>-0.005640</td>\n",
       "      <td>5.093589e-02</td>\n",
       "      <td>-1.661558e-02</td>\n",
       "      <td>-0.007256</td>\n",
       "      <td>0.010705</td>\n",
       "    </tr>\n",
       "    <tr>\n",
       "      <th>pc</th>\n",
       "      <td>0.001969</td>\n",
       "      <td>0.012847</td>\n",
       "      <td>-0.025247</td>\n",
       "      <td>0.047469</td>\n",
       "      <td>0.073936</td>\n",
       "      <td>0.659338</td>\n",
       "      <td>0.037669</td>\n",
       "      <td>0.022682</td>\n",
       "      <td>0.012663</td>\n",
       "      <td>0.027343</td>\n",
       "      <td>...</td>\n",
       "      <td>0.028910</td>\n",
       "      <td>0.056397</td>\n",
       "      <td>-0.045987</td>\n",
       "      <td>0.019738</td>\n",
       "      <td>-0.006316</td>\n",
       "      <td>-0.038434</td>\n",
       "      <td>-1.522038e-02</td>\n",
       "      <td>2.199588e-02</td>\n",
       "      <td>-0.054955</td>\n",
       "      <td>0.018281</td>\n",
       "    </tr>\n",
       "    <tr>\n",
       "      <th>px_height</th>\n",
       "      <td>-0.025056</td>\n",
       "      <td>0.048647</td>\n",
       "      <td>-0.058810</td>\n",
       "      <td>0.017277</td>\n",
       "      <td>0.006842</td>\n",
       "      <td>-0.017982</td>\n",
       "      <td>0.033655</td>\n",
       "      <td>-0.009564</td>\n",
       "      <td>0.062559</td>\n",
       "      <td>0.011157</td>\n",
       "      <td>...</td>\n",
       "      <td>1.000000</td>\n",
       "      <td>0.517650</td>\n",
       "      <td>0.027945</td>\n",
       "      <td>0.011162</td>\n",
       "      <td>0.043486</td>\n",
       "      <td>0.052383</td>\n",
       "      <td>-1.112460e-02</td>\n",
       "      <td>-1.963656e-02</td>\n",
       "      <td>-0.012459</td>\n",
       "      <td>-0.045065</td>\n",
       "    </tr>\n",
       "    <tr>\n",
       "      <th>px_width</th>\n",
       "      <td>-0.012138</td>\n",
       "      <td>0.053365</td>\n",
       "      <td>-0.032054</td>\n",
       "      <td>0.070585</td>\n",
       "      <td>0.015610</td>\n",
       "      <td>0.030550</td>\n",
       "      <td>0.036545</td>\n",
       "      <td>-0.003877</td>\n",
       "      <td>0.034861</td>\n",
       "      <td>-0.014577</td>\n",
       "      <td>...</td>\n",
       "      <td>0.517650</td>\n",
       "      <td>1.000000</td>\n",
       "      <td>-0.026378</td>\n",
       "      <td>-0.022610</td>\n",
       "      <td>0.004692</td>\n",
       "      <td>0.053423</td>\n",
       "      <td>1.943857e-02</td>\n",
       "      <td>-3.998625e-02</td>\n",
       "      <td>-0.073997</td>\n",
       "      <td>-0.058671</td>\n",
       "    </tr>\n",
       "    <tr>\n",
       "      <th>ram</th>\n",
       "      <td>-0.043442</td>\n",
       "      <td>-0.032366</td>\n",
       "      <td>0.057570</td>\n",
       "      <td>-0.000650</td>\n",
       "      <td>0.048171</td>\n",
       "      <td>-0.051997</td>\n",
       "      <td>0.030821</td>\n",
       "      <td>-0.007107</td>\n",
       "      <td>0.018349</td>\n",
       "      <td>0.028786</td>\n",
       "      <td>...</td>\n",
       "      <td>0.027945</td>\n",
       "      <td>-0.026378</td>\n",
       "      <td>1.000000</td>\n",
       "      <td>0.022894</td>\n",
       "      <td>0.030678</td>\n",
       "      <td>-0.003419</td>\n",
       "      <td>2.971246e-02</td>\n",
       "      <td>-4.365416e-02</td>\n",
       "      <td>-0.031904</td>\n",
       "      <td>-0.543359</td>\n",
       "    </tr>\n",
       "    <tr>\n",
       "      <th>sc_h</th>\n",
       "      <td>-0.011972</td>\n",
       "      <td>-0.055665</td>\n",
       "      <td>0.012780</td>\n",
       "      <td>-0.039503</td>\n",
       "      <td>0.006295</td>\n",
       "      <td>0.045158</td>\n",
       "      <td>-0.015087</td>\n",
       "      <td>-0.009249</td>\n",
       "      <td>-0.026160</td>\n",
       "      <td>-0.022053</td>\n",
       "      <td>...</td>\n",
       "      <td>0.011162</td>\n",
       "      <td>-0.022610</td>\n",
       "      <td>0.022894</td>\n",
       "      <td>1.000000</td>\n",
       "      <td>0.497154</td>\n",
       "      <td>0.026062</td>\n",
       "      <td>-1.952833e-02</td>\n",
       "      <td>-1.366232e-02</td>\n",
       "      <td>-0.002994</td>\n",
       "      <td>-0.007981</td>\n",
       "    </tr>\n",
       "    <tr>\n",
       "      <th>sc_w</th>\n",
       "      <td>0.002918</td>\n",
       "      <td>-0.023905</td>\n",
       "      <td>0.004223</td>\n",
       "      <td>-0.027138</td>\n",
       "      <td>-0.002064</td>\n",
       "      <td>0.006115</td>\n",
       "      <td>-0.000893</td>\n",
       "      <td>0.024521</td>\n",
       "      <td>-0.023393</td>\n",
       "      <td>0.022148</td>\n",
       "      <td>...</td>\n",
       "      <td>0.043486</td>\n",
       "      <td>0.004692</td>\n",
       "      <td>0.030678</td>\n",
       "      <td>0.497154</td>\n",
       "      <td>1.000000</td>\n",
       "      <td>0.063990</td>\n",
       "      <td>1.155939e-03</td>\n",
       "      <td>-4.766466e-02</td>\n",
       "      <td>0.015475</td>\n",
       "      <td>0.032620</td>\n",
       "    </tr>\n",
       "    <tr>\n",
       "      <th>talk_time</th>\n",
       "      <td>0.030807</td>\n",
       "      <td>0.015546</td>\n",
       "      <td>-0.031995</td>\n",
       "      <td>-0.078797</td>\n",
       "      <td>0.004390</td>\n",
       "      <td>-0.051458</td>\n",
       "      <td>0.013692</td>\n",
       "      <td>0.023759</td>\n",
       "      <td>0.024124</td>\n",
       "      <td>-0.021704</td>\n",
       "      <td>...</td>\n",
       "      <td>0.052383</td>\n",
       "      <td>0.053423</td>\n",
       "      <td>-0.003419</td>\n",
       "      <td>0.026062</td>\n",
       "      <td>0.063990</td>\n",
       "      <td>1.000000</td>\n",
       "      <td>-1.805074e-03</td>\n",
       "      <td>2.893599e-02</td>\n",
       "      <td>0.016710</td>\n",
       "      <td>-0.016135</td>\n",
       "    </tr>\n",
       "    <tr>\n",
       "      <th>three_g</th>\n",
       "      <td>0.049571</td>\n",
       "      <td>0.031514</td>\n",
       "      <td>0.013530</td>\n",
       "      <td>-0.021406</td>\n",
       "      <td>0.000690</td>\n",
       "      <td>-0.011121</td>\n",
       "      <td>0.553528</td>\n",
       "      <td>-0.015922</td>\n",
       "      <td>-0.029278</td>\n",
       "      <td>0.006262</td>\n",
       "      <td>...</td>\n",
       "      <td>-0.011125</td>\n",
       "      <td>0.019439</td>\n",
       "      <td>0.029712</td>\n",
       "      <td>-0.019528</td>\n",
       "      <td>0.001156</td>\n",
       "      <td>-0.001805</td>\n",
       "      <td>1.000000e+00</td>\n",
       "      <td>-6.016503e-17</td>\n",
       "      <td>-0.024645</td>\n",
       "      <td>0.002801</td>\n",
       "    </tr>\n",
       "    <tr>\n",
       "      <th>touch_screen</th>\n",
       "      <td>0.039768</td>\n",
       "      <td>-0.010138</td>\n",
       "      <td>-0.060031</td>\n",
       "      <td>0.061893</td>\n",
       "      <td>0.034020</td>\n",
       "      <td>0.015467</td>\n",
       "      <td>-0.010003</td>\n",
       "      <td>0.022186</td>\n",
       "      <td>0.040254</td>\n",
       "      <td>0.044525</td>\n",
       "      <td>...</td>\n",
       "      <td>-0.019637</td>\n",
       "      <td>-0.039986</td>\n",
       "      <td>-0.043654</td>\n",
       "      <td>-0.013662</td>\n",
       "      <td>-0.047665</td>\n",
       "      <td>0.028936</td>\n",
       "      <td>-6.016503e-17</td>\n",
       "      <td>1.000000e+00</td>\n",
       "      <td>-0.026003</td>\n",
       "      <td>0.100245</td>\n",
       "    </tr>\n",
       "    <tr>\n",
       "      <th>wifi</th>\n",
       "      <td>-0.036643</td>\n",
       "      <td>-0.000414</td>\n",
       "      <td>0.025568</td>\n",
       "      <td>-0.048593</td>\n",
       "      <td>0.031545</td>\n",
       "      <td>-0.060373</td>\n",
       "      <td>-0.035652</td>\n",
       "      <td>0.011860</td>\n",
       "      <td>-0.039705</td>\n",
       "      <td>0.069762</td>\n",
       "      <td>...</td>\n",
       "      <td>-0.012459</td>\n",
       "      <td>-0.073997</td>\n",
       "      <td>-0.031904</td>\n",
       "      <td>-0.002994</td>\n",
       "      <td>0.015475</td>\n",
       "      <td>0.016710</td>\n",
       "      <td>-2.464544e-02</td>\n",
       "      <td>-2.600255e-02</td>\n",
       "      <td>1.000000</td>\n",
       "      <td>0.039665</td>\n",
       "    </tr>\n",
       "    <tr>\n",
       "      <th>price_range</th>\n",
       "      <td>0.076493</td>\n",
       "      <td>0.061677</td>\n",
       "      <td>-0.046679</td>\n",
       "      <td>0.009449</td>\n",
       "      <td>-0.051296</td>\n",
       "      <td>0.044859</td>\n",
       "      <td>0.011597</td>\n",
       "      <td>-0.017747</td>\n",
       "      <td>0.031876</td>\n",
       "      <td>0.010394</td>\n",
       "      <td>...</td>\n",
       "      <td>-0.045065</td>\n",
       "      <td>-0.058671</td>\n",
       "      <td>-0.543359</td>\n",
       "      <td>-0.007981</td>\n",
       "      <td>0.032620</td>\n",
       "      <td>-0.016135</td>\n",
       "      <td>2.800835e-03</td>\n",
       "      <td>1.002448e-01</td>\n",
       "      <td>0.039665</td>\n",
       "      <td>1.000000</td>\n",
       "    </tr>\n",
       "  </tbody>\n",
       "</table>\n",
       "<p>22 rows × 22 columns</p>\n",
       "</div>"
      ],
      "text/plain": [
       "                     id  battery_power      blue  clock_speed  dual_sim  \\\n",
       "id             1.000000      -0.021511  0.000464     0.035917 -0.002721   \n",
       "battery_power -0.021511       1.000000 -0.046610    -0.039075 -0.061171   \n",
       "blue           0.000464      -0.046610  1.000000     0.034754 -0.011100   \n",
       "clock_speed    0.035917      -0.039075  0.034754     1.000000 -0.012423   \n",
       "dual_sim      -0.002721      -0.061171 -0.011100    -0.012423  1.000000   \n",
       "fc             0.016934      -0.007846 -0.056063     0.010127  0.057606   \n",
       "four_g         0.030921      -0.042520 -0.001169    -0.024665  0.024907   \n",
       "int_memory    -0.014023       0.003751 -0.012416    -0.030487 -0.012158   \n",
       "m_dep         -0.002794      -0.009065  0.018319     0.016995  0.021760   \n",
       "mobile_wt     -0.007541      -0.047065  0.023513    -0.014107 -0.001734   \n",
       "n_cores       -0.015935       0.025732  0.003283    -0.012247 -0.003129   \n",
       "pc             0.001969       0.012847 -0.025247     0.047469  0.073936   \n",
       "px_height     -0.025056       0.048647 -0.058810     0.017277  0.006842   \n",
       "px_width      -0.012138       0.053365 -0.032054     0.070585  0.015610   \n",
       "ram           -0.043442      -0.032366  0.057570    -0.000650  0.048171   \n",
       "sc_h          -0.011972      -0.055665  0.012780    -0.039503  0.006295   \n",
       "sc_w           0.002918      -0.023905  0.004223    -0.027138 -0.002064   \n",
       "talk_time      0.030807       0.015546 -0.031995    -0.078797  0.004390   \n",
       "three_g        0.049571       0.031514  0.013530    -0.021406  0.000690   \n",
       "touch_screen   0.039768      -0.010138 -0.060031     0.061893  0.034020   \n",
       "wifi          -0.036643      -0.000414  0.025568    -0.048593  0.031545   \n",
       "price_range    0.076493       0.061677 -0.046679     0.009449 -0.051296   \n",
       "\n",
       "                     fc    four_g  int_memory     m_dep  mobile_wt  ...  \\\n",
       "id             0.016934  0.030921   -0.014023 -0.002794  -0.007541  ...   \n",
       "battery_power -0.007846 -0.042520    0.003751 -0.009065  -0.047065  ...   \n",
       "blue          -0.056063 -0.001169   -0.012416  0.018319   0.023513  ...   \n",
       "clock_speed    0.010127 -0.024665   -0.030487  0.016995  -0.014107  ...   \n",
       "dual_sim       0.057606  0.024907   -0.012158  0.021760  -0.001734  ...   \n",
       "fc             1.000000  0.032832   -0.006565  0.020859   0.018353  ...   \n",
       "four_g         0.032832  1.000000   -0.037488  0.014806  -0.000509  ...   \n",
       "int_memory    -0.006565 -0.037488    1.000000 -0.004386  -0.010447  ...   \n",
       "m_dep          0.020859  0.014806   -0.004386  1.000000  -0.041994  ...   \n",
       "mobile_wt      0.018353 -0.000509   -0.010447 -0.041994   1.000000  ...   \n",
       "n_cores        0.020828  0.066716    0.021601  0.010062  -0.038908  ...   \n",
       "pc             0.659338  0.037669    0.022682  0.012663   0.027343  ...   \n",
       "px_height     -0.017982  0.033655   -0.009564  0.062559   0.011157  ...   \n",
       "px_width       0.030550  0.036545   -0.003877  0.034861  -0.014577  ...   \n",
       "ram           -0.051997  0.030821   -0.007107  0.018349   0.028786  ...   \n",
       "sc_h           0.045158 -0.015087   -0.009249 -0.026160  -0.022053  ...   \n",
       "sc_w           0.006115 -0.000893    0.024521 -0.023393   0.022148  ...   \n",
       "talk_time     -0.051458  0.013692    0.023759  0.024124  -0.021704  ...   \n",
       "three_g       -0.011121  0.553528   -0.015922 -0.029278   0.006262  ...   \n",
       "touch_screen   0.015467 -0.010003    0.022186  0.040254   0.044525  ...   \n",
       "wifi          -0.060373 -0.035652    0.011860 -0.039705   0.069762  ...   \n",
       "price_range    0.044859  0.011597   -0.017747  0.031876   0.010394  ...   \n",
       "\n",
       "               px_height  px_width       ram      sc_h      sc_w  talk_time  \\\n",
       "id             -0.025056 -0.012138 -0.043442 -0.011972  0.002918   0.030807   \n",
       "battery_power   0.048647  0.053365 -0.032366 -0.055665 -0.023905   0.015546   \n",
       "blue           -0.058810 -0.032054  0.057570  0.012780  0.004223  -0.031995   \n",
       "clock_speed     0.017277  0.070585 -0.000650 -0.039503 -0.027138  -0.078797   \n",
       "dual_sim        0.006842  0.015610  0.048171  0.006295 -0.002064   0.004390   \n",
       "fc             -0.017982  0.030550 -0.051997  0.045158  0.006115  -0.051458   \n",
       "four_g          0.033655  0.036545  0.030821 -0.015087 -0.000893   0.013692   \n",
       "int_memory     -0.009564 -0.003877 -0.007107 -0.009249  0.024521   0.023759   \n",
       "m_dep           0.062559  0.034861  0.018349 -0.026160 -0.023393   0.024124   \n",
       "mobile_wt       0.011157 -0.014577  0.028786 -0.022053  0.022148  -0.021704   \n",
       "n_cores        -0.054433 -0.059388 -0.042750 -0.034057  0.012830  -0.005640   \n",
       "pc              0.028910  0.056397 -0.045987  0.019738 -0.006316  -0.038434   \n",
       "px_height       1.000000  0.517650  0.027945  0.011162  0.043486   0.052383   \n",
       "px_width        0.517650  1.000000 -0.026378 -0.022610  0.004692   0.053423   \n",
       "ram             0.027945 -0.026378  1.000000  0.022894  0.030678  -0.003419   \n",
       "sc_h            0.011162 -0.022610  0.022894  1.000000  0.497154   0.026062   \n",
       "sc_w            0.043486  0.004692  0.030678  0.497154  1.000000   0.063990   \n",
       "talk_time       0.052383  0.053423 -0.003419  0.026062  0.063990   1.000000   \n",
       "three_g        -0.011125  0.019439  0.029712 -0.019528  0.001156  -0.001805   \n",
       "touch_screen   -0.019637 -0.039986 -0.043654 -0.013662 -0.047665   0.028936   \n",
       "wifi           -0.012459 -0.073997 -0.031904 -0.002994  0.015475   0.016710   \n",
       "price_range    -0.045065 -0.058671 -0.543359 -0.007981  0.032620  -0.016135   \n",
       "\n",
       "                    three_g  touch_screen      wifi  price_range  \n",
       "id             4.957099e-02  3.976791e-02 -0.036643     0.076493  \n",
       "battery_power  3.151417e-02 -1.013784e-02 -0.000414     0.061677  \n",
       "blue           1.352986e-02 -6.003074e-02  0.025568    -0.046679  \n",
       "clock_speed   -2.140644e-02  6.189276e-02 -0.048593     0.009449  \n",
       "dual_sim       6.895838e-04  3.401967e-02  0.031545    -0.051296  \n",
       "fc            -1.112104e-02  1.546706e-02 -0.060373     0.044859  \n",
       "four_g         5.535283e-01 -1.000338e-02 -0.035652     0.011597  \n",
       "int_memory    -1.592239e-02  2.218589e-02  0.011860    -0.017747  \n",
       "m_dep         -2.927827e-02  4.025363e-02 -0.039705     0.031876  \n",
       "mobile_wt      6.261881e-03  4.452531e-02  0.069762     0.010394  \n",
       "n_cores        5.093589e-02 -1.661558e-02 -0.007256     0.010705  \n",
       "pc            -1.522038e-02  2.199588e-02 -0.054955     0.018281  \n",
       "px_height     -1.112460e-02 -1.963656e-02 -0.012459    -0.045065  \n",
       "px_width       1.943857e-02 -3.998625e-02 -0.073997    -0.058671  \n",
       "ram            2.971246e-02 -4.365416e-02 -0.031904    -0.543359  \n",
       "sc_h          -1.952833e-02 -1.366232e-02 -0.002994    -0.007981  \n",
       "sc_w           1.155939e-03 -4.766466e-02  0.015475     0.032620  \n",
       "talk_time     -1.805074e-03  2.893599e-02  0.016710    -0.016135  \n",
       "three_g        1.000000e+00 -6.016503e-17 -0.024645     0.002801  \n",
       "touch_screen  -6.016503e-17  1.000000e+00 -0.026003     0.100245  \n",
       "wifi          -2.464544e-02 -2.600255e-02  1.000000     0.039665  \n",
       "price_range    2.800835e-03  1.002448e-01  0.039665     1.000000  \n",
       "\n",
       "[22 rows x 22 columns]"
      ]
     },
     "execution_count": 54,
     "metadata": {},
     "output_type": "execute_result"
    }
   ],
   "source": [
    "korr = df.corr()\n",
    "korr"
   ]
  },
  {
   "cell_type": "code",
   "execution_count": 55,
   "id": "6ff5bcbd",
   "metadata": {},
   "outputs": [
    {
     "data": {
      "text/plain": [
       "<AxesSubplot:>"
      ]
     },
     "execution_count": 55,
     "metadata": {},
     "output_type": "execute_result"
    },
    {
     "data": {
      "image/png": "[encoded data removed]",
      "text/plain": [
       "<Figure size 1000x600 with 2 Axes>"
      ]
     },
     "metadata": {},
     "output_type": "display_data"
    }
   ],
   "source": [
    "plt.figure(figsize=(10,6))\n",
    "sns.heatmap(korr,annot=True,fmt='.1f')"
   ]
  },
  {
   "cell_type": "markdown",
   "id": "6638f893",
   "metadata": {},
   "source": [
    "### VISUALIZATIONS INSIGHTS"
   ]
  },
  {
   "cell_type": "markdown",
   "id": "1889dcf4",
   "metadata": {},
   "source": [
    "The insights we get by Visualzing the dataset.\n",
    "\n",
    "     > Seems like people are more likely to buy a Expensive phone than the affordable one.\n",
    "     > The need of Wifi,Bluetooth and dual sim are higher wherelse the number of touch screens are balanced.\n",
    "     > the number of Three G phones are higher than the numbers of Four G phones.\n",
    "     "
   ]
  },
  {
   "cell_type": "markdown",
   "id": "c5c8b44a",
   "metadata": {},
   "source": [
    "# MODEL"
   ]
  },
  {
   "cell_type": "code",
   "execution_count": 24,
   "id": "0eed237b",
   "metadata": {},
   "outputs": [],
   "source": [
    "x = df.iloc[:,:-1]\n",
    "y = df.iloc[:,-1]"
   ]
  },
  {
   "cell_type": "code",
   "execution_count": 25,
   "id": "e1698a67",
   "metadata": {},
   "outputs": [],
   "source": [
    "from sklearn.model_selection import train_test_split\n",
    "X_train,X_test,y_train,y_test = train_test_split(x,y,test_size=0.2,random_state=1)"
   ]
  },
  {
   "cell_type": "code",
   "execution_count": 26,
   "id": "fa3ee5f6",
   "metadata": {},
   "outputs": [],
   "source": [
    "from sklearn.linear_model import LogisticRegression\n",
    "from sklearn.neighbors import KNeighborsClassifier\n",
    "from sklearn.tree import DecisionTreeClassifier\n",
    "from sklearn.svm import SVC"
   ]
  },
  {
   "cell_type": "code",
   "execution_count": 27,
   "id": "1d7b5ae9",
   "metadata": {},
   "outputs": [],
   "source": [
    "logreg = LogisticRegression()\n",
    "knn = KNeighborsClassifier()\n",
    "dt = DecisionTreeClassifier()\n",
    "svm = SVC()"
   ]
  },
  {
   "cell_type": "code",
   "execution_count": 28,
   "id": "1d56acb6",
   "metadata": {},
   "outputs": [],
   "source": [
    "from sklearn.metrics import classification_report,accuracy_score"
   ]
  },
  {
   "cell_type": "code",
   "execution_count": 29,
   "id": "4145b4f0",
   "metadata": {},
   "outputs": [],
   "source": [
    "def mymodel(model):\n",
    "    model.fit(X_train,y_train)\n",
    "    y_pred = model.predict(X_test)\n",
    "    print(classification_report(y_test,y_pred))\n",
    "    print('Accuracy Score :',accuracy_score(y_test,y_pred))\n",
    "    \n",
    "    train = model.score(X_train,y_train)\n",
    "    test = model.score(X_test,y_test)\n",
    "    \n",
    "    print('Training Performance',train)\n",
    "    print('Testing Performnace',test)\n",
    "    \n",
    "    return model"
   ]
  },
  {
   "cell_type": "markdown",
   "id": "83c10932",
   "metadata": {},
   "source": [
    "#### Logistic Regression"
   ]
  },
  {
   "cell_type": "code",
   "execution_count": 30,
   "id": "96b596c1",
   "metadata": {},
   "outputs": [
    {
     "name": "stdout",
     "output_type": "stream",
     "text": [
      "              precision    recall  f1-score   support\n",
      "\n",
      "           0       0.85      0.93      0.89        75\n",
      "           1       0.96      0.91      0.93        53\n",
      "           2       0.85      0.81      0.83        72\n",
      "\n",
      "    accuracy                           0.88       200\n",
      "   macro avg       0.89      0.88      0.88       200\n",
      "weighted avg       0.88      0.88      0.88       200\n",
      "\n",
      "Accuracy Score : 0.88\n",
      "Training Performance 0.88\n",
      "Testing Performnace 0.88\n"
     ]
    },
    {
     "data": {
      "text/plain": [
       "LogisticRegression()"
      ]
     },
     "execution_count": 30,
     "metadata": {},
     "output_type": "execute_result"
    }
   ],
   "source": [
    "mymodel(logreg)"
   ]
  },
  {
   "cell_type": "markdown",
   "id": "dcf1fd48",
   "metadata": {},
   "source": [
    "#### KNN"
   ]
  },
  {
   "cell_type": "code",
   "execution_count": 31,
   "id": "3b3220a6",
   "metadata": {
    "scrolled": true
   },
   "outputs": [
    {
     "name": "stdout",
     "output_type": "stream",
     "text": [
      "              precision    recall  f1-score   support\n",
      "\n",
      "           0       0.95      0.97      0.96        75\n",
      "           1       0.96      0.92      0.94        53\n",
      "           2       0.92      0.92      0.92        72\n",
      "\n",
      "    accuracy                           0.94       200\n",
      "   macro avg       0.94      0.94      0.94       200\n",
      "weighted avg       0.94      0.94      0.94       200\n",
      "\n",
      "Accuracy Score : 0.94\n",
      "Training Performance 0.98125\n",
      "Testing Performnace 0.94\n"
     ]
    },
    {
     "data": {
      "text/plain": [
       "KNeighborsClassifier()"
      ]
     },
     "execution_count": 31,
     "metadata": {},
     "output_type": "execute_result"
    }
   ],
   "source": [
    "mymodel(knn)"
   ]
  },
  {
   "cell_type": "markdown",
   "id": "9c778c6c",
   "metadata": {},
   "source": [
    "#### SVM"
   ]
  },
  {
   "cell_type": "code",
   "execution_count": 32,
   "id": "4b9e32bb",
   "metadata": {
    "scrolled": true
   },
   "outputs": [
    {
     "name": "stdout",
     "output_type": "stream",
     "text": [
      "              precision    recall  f1-score   support\n",
      "\n",
      "           0       0.97      1.00      0.99        75\n",
      "           1       1.00      0.98      0.99        53\n",
      "           2       0.99      0.97      0.98        72\n",
      "\n",
      "    accuracy                           0.98       200\n",
      "   macro avg       0.99      0.98      0.99       200\n",
      "weighted avg       0.99      0.98      0.98       200\n",
      "\n",
      "Accuracy Score : 0.985\n",
      "Training Performance 0.98875\n",
      "Testing Performnace 0.985\n"
     ]
    },
    {
     "data": {
      "text/plain": [
       "SVC()"
      ]
     },
     "execution_count": 32,
     "metadata": {},
     "output_type": "execute_result"
    }
   ],
   "source": [
    "mymodel(svm)"
   ]
  },
  {
   "cell_type": "markdown",
   "id": "0e5d1170",
   "metadata": {},
   "source": [
    "#### Decision Tree"
   ]
  },
  {
   "cell_type": "code",
   "execution_count": 33,
   "id": "1ce9983f",
   "metadata": {
    "scrolled": true
   },
   "outputs": [
    {
     "name": "stdout",
     "output_type": "stream",
     "text": [
      "              precision    recall  f1-score   support\n",
      "\n",
      "           0       0.99      1.00      0.99        75\n",
      "           1       0.98      0.98      0.98        53\n",
      "           2       0.99      0.97      0.98        72\n",
      "\n",
      "    accuracy                           0.98       200\n",
      "   macro avg       0.98      0.98      0.98       200\n",
      "weighted avg       0.98      0.98      0.98       200\n",
      "\n",
      "Accuracy Score : 0.985\n",
      "Training Performance 1.0\n",
      "Testing Performnace 0.985\n"
     ]
    },
    {
     "data": {
      "text/plain": [
       "DecisionTreeClassifier()"
      ]
     },
     "execution_count": 33,
     "metadata": {},
     "output_type": "execute_result"
    }
   ],
   "source": [
    "mymodel(dt)"
   ]
  },
  {
   "cell_type": "code",
   "execution_count": 34,
   "id": "039bf519",
   "metadata": {},
   "outputs": [],
   "source": [
    "svm = SVC(kernel='linear')"
   ]
  },
  {
   "cell_type": "code",
   "execution_count": 35,
   "id": "bb8e9d48",
   "metadata": {},
   "outputs": [
    {
     "name": "stdout",
     "output_type": "stream",
     "text": [
      "              precision    recall  f1-score   support\n",
      "\n",
      "           0       1.00      1.00      1.00        75\n",
      "           1       0.98      1.00      0.99        53\n",
      "           2       1.00      0.99      0.99        72\n",
      "\n",
      "    accuracy                           0.99       200\n",
      "   macro avg       0.99      1.00      0.99       200\n",
      "weighted avg       1.00      0.99      1.00       200\n",
      "\n",
      "Accuracy Score : 0.995\n",
      "Training Performance 1.0\n",
      "Testing Performnace 0.995\n"
     ]
    },
    {
     "data": {
      "text/plain": [
       "SVC(kernel='linear')"
      ]
     },
     "execution_count": 35,
     "metadata": {},
     "output_type": "execute_result"
    }
   ],
   "source": [
    "mymodel(svm)"
   ]
  },
  {
   "cell_type": "code",
   "execution_count": 36,
   "id": "6489cce2",
   "metadata": {},
   "outputs": [],
   "source": [
    "from sklearn.model_selection import GridSearchCV"
   ]
  },
  {
   "cell_type": "code",
   "execution_count": 37,
   "id": "e0ce9815",
   "metadata": {},
   "outputs": [],
   "source": [
    "param_grid = {'C':[1,10],'gamma':[1,10]}"
   ]
  },
  {
   "cell_type": "code",
   "execution_count": 38,
   "id": "5c2c974b",
   "metadata": {},
   "outputs": [
    {
     "name": "stdout",
     "output_type": "stream",
     "text": [
      "Fitting 5 folds for each of 4 candidates, totalling 20 fits\n",
      "[CV 1/5] END ......................C=1, gamma=1;, score=1.000 total time=   0.0s\n",
      "[CV 2/5] END ......................C=1, gamma=1;, score=1.000 total time=   0.0s\n",
      "[CV 3/5] END ......................C=1, gamma=1;, score=0.994 total time=   0.0s\n",
      "[CV 4/5] END ......................C=1, gamma=1;, score=1.000 total time=   0.0s\n",
      "[CV 5/5] END ......................C=1, gamma=1;, score=1.000 total time=   0.0s\n",
      "[CV 1/5] END .....................C=1, gamma=10;, score=1.000 total time=   0.0s\n",
      "[CV 2/5] END .....................C=1, gamma=10;, score=1.000 total time=   0.0s\n",
      "[CV 3/5] END .....................C=1, gamma=10;, score=0.994 total time=   0.0s\n",
      "[CV 4/5] END .....................C=1, gamma=10;, score=1.000 total time=   0.0s\n",
      "[CV 5/5] END .....................C=1, gamma=10;, score=1.000 total time=   0.0s\n",
      "[CV 1/5] END .....................C=10, gamma=1;, score=1.000 total time=   0.0s\n",
      "[CV 2/5] END .....................C=10, gamma=1;, score=1.000 total time=   0.0s\n",
      "[CV 3/5] END .....................C=10, gamma=1;, score=0.994 total time=   0.0s\n",
      "[CV 4/5] END .....................C=10, gamma=1;, score=1.000 total time=   0.0s\n",
      "[CV 5/5] END .....................C=10, gamma=1;, score=1.000 total time=   0.0s\n",
      "[CV 1/5] END ....................C=10, gamma=10;, score=1.000 total time=   0.0s\n",
      "[CV 2/5] END ....................C=10, gamma=10;, score=1.000 total time=   0.0s\n",
      "[CV 3/5] END ....................C=10, gamma=10;, score=0.994 total time=   0.0s\n",
      "[CV 4/5] END ....................C=10, gamma=10;, score=1.000 total time=   0.0s\n",
      "[CV 5/5] END ....................C=10, gamma=10;, score=1.000 total time=   0.0s\n"
     ]
    },
    {
     "data": {
      "text/plain": [
       "GridSearchCV(estimator=SVC(kernel='linear'),\n",
       "             param_grid={'C': [1, 10], 'gamma': [1, 10]}, verbose=3)"
      ]
     },
     "execution_count": 38,
     "metadata": {},
     "output_type": "execute_result"
    }
   ],
   "source": [
    "gs = GridSearchCV(svm,param_grid,verbose=3)\n",
    "gs.fit(X_train,y_train)"
   ]
  },
  {
   "cell_type": "code",
   "execution_count": 39,
   "id": "f0b55891",
   "metadata": {},
   "outputs": [
    {
     "data": {
      "text/plain": [
       "{'C': 1, 'gamma': 1}"
      ]
     },
     "execution_count": 39,
     "metadata": {},
     "output_type": "execute_result"
    }
   ],
   "source": [
    "gs.best_params_"
   ]
  },
  {
   "cell_type": "code",
   "execution_count": 40,
   "id": "a1b73828",
   "metadata": {},
   "outputs": [
    {
     "name": "stdout",
     "output_type": "stream",
     "text": [
      "Fitting 5 folds for each of 4 candidates, totalling 20 fits\n",
      "[CV 1/5] END ......................C=1, gamma=1;, score=1.000 total time=   0.0s\n",
      "[CV 2/5] END ......................C=1, gamma=1;, score=1.000 total time=   0.0s\n",
      "[CV 3/5] END ......................C=1, gamma=1;, score=0.994 total time=   0.0s\n",
      "[CV 4/5] END ......................C=1, gamma=1;, score=1.000 total time=   0.0s\n",
      "[CV 5/5] END ......................C=1, gamma=1;, score=1.000 total time=   0.0s\n",
      "[CV 1/5] END .....................C=1, gamma=10;, score=1.000 total time=   0.0s\n",
      "[CV 2/5] END .....................C=1, gamma=10;, score=1.000 total time=   0.0s\n",
      "[CV 3/5] END .....................C=1, gamma=10;, score=0.994 total time=   0.0s\n",
      "[CV 4/5] END .....................C=1, gamma=10;, score=1.000 total time=   0.0s\n",
      "[CV 5/5] END .....................C=1, gamma=10;, score=1.000 total time=   0.0s\n",
      "[CV 1/5] END .....................C=10, gamma=1;, score=1.000 total time=   0.0s\n",
      "[CV 2/5] END .....................C=10, gamma=1;, score=1.000 total time=   0.0s\n",
      "[CV 3/5] END .....................C=10, gamma=1;, score=0.994 total time=   0.0s\n",
      "[CV 4/5] END .....................C=10, gamma=1;, score=1.000 total time=   0.0s\n",
      "[CV 5/5] END .....................C=10, gamma=1;, score=1.000 total time=   0.0s\n",
      "[CV 1/5] END ....................C=10, gamma=10;, score=1.000 total time=   0.0s\n",
      "[CV 2/5] END ....................C=10, gamma=10;, score=1.000 total time=   0.0s\n",
      "[CV 3/5] END ....................C=10, gamma=10;, score=0.994 total time=   0.0s\n",
      "[CV 4/5] END ....................C=10, gamma=10;, score=1.000 total time=   0.0s\n",
      "[CV 5/5] END ....................C=10, gamma=10;, score=1.000 total time=   0.0s\n",
      "              precision    recall  f1-score   support\n",
      "\n",
      "           0       1.00      1.00      1.00        75\n",
      "           1       0.98      1.00      0.99        53\n",
      "           2       1.00      0.99      0.99        72\n",
      "\n",
      "    accuracy                           0.99       200\n",
      "   macro avg       0.99      1.00      0.99       200\n",
      "weighted avg       1.00      0.99      1.00       200\n",
      "\n",
      "Accuracy Score : 0.995\n",
      "Training Performance 1.0\n",
      "Testing Performnace 0.995\n"
     ]
    },
    {
     "data": {
      "text/plain": [
       "GridSearchCV(estimator=SVC(kernel='linear'),\n",
       "             param_grid={'C': [1, 10], 'gamma': [1, 10]}, verbose=3)"
      ]
     },
     "execution_count": 40,
     "metadata": {},
     "output_type": "execute_result"
    }
   ],
   "source": [
    "mymodel(gs)"
   ]
  },
  {
   "cell_type": "code",
   "execution_count": 41,
   "id": "f4211979",
   "metadata": {},
   "outputs": [],
   "source": [
    "svm = SVC(kernel='linear',C=1,gamma=1)"
   ]
  },
  {
   "cell_type": "code",
   "execution_count": 42,
   "id": "bfa253c0",
   "metadata": {
    "scrolled": true
   },
   "outputs": [
    {
     "name": "stdout",
     "output_type": "stream",
     "text": [
      "              precision    recall  f1-score   support\n",
      "\n",
      "           0       1.00      1.00      1.00        75\n",
      "           1       0.98      1.00      0.99        53\n",
      "           2       1.00      0.99      0.99        72\n",
      "\n",
      "    accuracy                           0.99       200\n",
      "   macro avg       0.99      1.00      0.99       200\n",
      "weighted avg       1.00      0.99      1.00       200\n",
      "\n",
      "Accuracy Score : 0.995\n",
      "Training Performance 1.0\n",
      "Testing Performnace 0.995\n"
     ]
    },
    {
     "data": {
      "text/plain": [
       "SVC(C=1, gamma=1, kernel='linear')"
      ]
     },
     "execution_count": 42,
     "metadata": {},
     "output_type": "execute_result"
    }
   ],
   "source": [
    "mymodel(svm)"
   ]
  },
  {
   "cell_type": "markdown",
   "id": "6d85419c",
   "metadata": {},
   "source": [
    "#### XGBOOST"
   ]
  },
  {
   "cell_type": "code",
   "execution_count": 43,
   "id": "4c310a19",
   "metadata": {},
   "outputs": [
    {
     "name": "stdout",
     "output_type": "stream",
     "text": [
      "Defaulting to user installation because normal site-packages is not writeable\n",
      "Collecting xgboost\n",
      "  Downloading xgboost-1.7.5-py3-none-win_amd64.whl (70.9 MB)\n",
      "     ---------------------------------------- 70.9/70.9 MB 2.3 MB/s eta 0:00:00\n",
      "Requirement already satisfied: numpy in c:\\programdata\\anaconda3\\lib\\site-packages (from xgboost) (1.21.5)\n",
      "Requirement already satisfied: scipy in c:\\programdata\\anaconda3\\lib\\site-packages (from xgboost) (1.9.1)\n",
      "Installing collected packages: xgboost\n",
      "Successfully installed xgboost-1.7.5\n",
      "Note: you may need to restart the kernel to use updated packages.\n"
     ]
    }
   ],
   "source": [
    "pip install xgboost"
   ]
  },
  {
   "cell_type": "code",
   "execution_count": 44,
   "id": "c51741aa",
   "metadata": {},
   "outputs": [],
   "source": [
    "from xgboost import XGBClassifier"
   ]
  },
  {
   "cell_type": "code",
   "execution_count": 52,
   "id": "9c2d7cbd",
   "metadata": {},
   "outputs": [
    {
     "name": "stdout",
     "output_type": "stream",
     "text": [
      "              precision    recall  f1-score   support\n",
      "\n",
      "           0       0.99      1.00      0.99        75\n",
      "           1       0.98      0.98      0.98        53\n",
      "           2       0.99      0.97      0.98        72\n",
      "\n",
      "    accuracy                           0.98       200\n",
      "   macro avg       0.98      0.98      0.98       200\n",
      "weighted avg       0.98      0.98      0.98       200\n",
      "\n",
      "Accuracy Score :  0.985\n",
      "Training Performance 1.0\n",
      "Testing Performnace 0.985\n"
     ]
    }
   ],
   "source": [
    "xg = XGBClassifier()\n",
    "xg.fit(X_train,y_train)\n",
    "y_pred = xg.predict(X_test)\n",
    "print(classification_report(y_test,y_pred))\n",
    "print('Accuracy Score ',accuracy_score(y_test,y_pred))\n",
    "\n",
    "train = xg.score(X_train,y_train)\n",
    "test = xg.score(X_test,y_test)\n",
    "    \n",
    "print('Training Performance',train)\n",
    "print('Testing Performnace',test)"
   ]
  },
  {
   "cell_type": "markdown",
   "id": "e6fb4fc4",
   "metadata": {},
   "source": [
    "#### RANDOM FOREST"
   ]
  },
  {
   "cell_type": "code",
   "execution_count": 48,
   "id": "61ce39d0",
   "metadata": {},
   "outputs": [],
   "source": [
    "from sklearn.ensemble import RandomForestClassifier"
   ]
  },
  {
   "cell_type": "code",
   "execution_count": 53,
   "id": "87af0172",
   "metadata": {},
   "outputs": [
    {
     "name": "stdout",
     "output_type": "stream",
     "text": [
      "              precision    recall  f1-score   support\n",
      "\n",
      "           0       0.99      1.00      0.99        75\n",
      "           1       0.98      0.96      0.97        53\n",
      "           2       0.97      0.97      0.97        72\n",
      "\n",
      "    accuracy                           0.98       200\n",
      "   macro avg       0.98      0.98      0.98       200\n",
      "weighted avg       0.98      0.98      0.98       200\n",
      "\n",
      "Accuracy Score :  0.98\n",
      "Training Performance 1.0\n",
      "Testing Performnace 0.98\n"
     ]
    }
   ],
   "source": [
    "rf = RandomForestClassifier()\n",
    "rf.fit(X_train,y_train)\n",
    "y_pred = rf.predict(X_test)\n",
    "print(classification_report(y_test,y_pred))\n",
    "print('Accuracy Score : ',accuracy_score(y_test,y_pred))\n",
    "\n",
    "train = rf.score(X_train,y_train)\n",
    "test = rf.score(X_test,y_test)\n",
    "    \n",
    "print('Training Performance',train)\n",
    "print('Testing Performnace',test)"
   ]
  },
  {
   "cell_type": "markdown",
   "id": "fba0477a",
   "metadata": {},
   "source": [
    "### ACCURACY RESULTS"
   ]
  },
  {
   "cell_type": "code",
   "execution_count": 88,
   "id": "a7882899",
   "metadata": {},
   "outputs": [],
   "source": [
    "Accuracy_Results = pd.DataFrame({'Logistic Regression':[0.88],'KNN':[0.94],'Decision tree':[0.98],'SVM':[0.995],'Xgboost':[0.985],'Random Forest':[0.98]},index=['Accuracy'])"
   ]
  },
  {
   "cell_type": "code",
   "execution_count": 89,
   "id": "8b1fb2a4",
   "metadata": {
    "scrolled": true
   },
   "outputs": [
    {
     "data": {
      "text/html": [
       "<div>\n",
       "<style scoped>\n",
       "    .dataframe tbody tr th:only-of-type {\n",
       "        vertical-align: middle;\n",
       "    }\n",
       "\n",
       "    .dataframe tbody tr th {\n",
       "        vertical-align: top;\n",
       "    }\n",
       "\n",
       "    .dataframe thead th {\n",
       "        text-align: right;\n",
       "    }\n",
       "</style>\n",
       "<table border=\"1\" class=\"dataframe\">\n",
       "  <thead>\n",
       "    <tr style=\"text-align: right;\">\n",
       "      <th></th>\n",
       "      <th>Logistic Regression</th>\n",
       "      <th>KNN</th>\n",
       "      <th>Decision tree</th>\n",
       "      <th>SVM</th>\n",
       "      <th>Xgboost</th>\n",
       "      <th>Random Forest</th>\n",
       "    </tr>\n",
       "  </thead>\n",
       "  <tbody>\n",
       "    <tr>\n",
       "      <th>Accuracy</th>\n",
       "      <td>0.88</td>\n",
       "      <td>0.94</td>\n",
       "      <td>0.98</td>\n",
       "      <td>0.995</td>\n",
       "      <td>0.985</td>\n",
       "      <td>0.98</td>\n",
       "    </tr>\n",
       "  </tbody>\n",
       "</table>\n",
       "</div>"
      ],
      "text/plain": [
       "          Logistic Regression   KNN  Decision tree    SVM  Xgboost  \\\n",
       "Accuracy                 0.88  0.94           0.98  0.995    0.985   \n",
       "\n",
       "          Random Forest  \n",
       "Accuracy           0.98  "
      ]
     },
     "execution_count": 89,
     "metadata": {},
     "output_type": "execute_result"
    }
   ],
   "source": [
    "Accuracy_Results"
   ]
  },
  {
   "cell_type": "markdown",
   "id": "0766e8e5",
   "metadata": {},
   "source": [
    " The Models have perfectly been trained and predicted the split testset with High accuracy."
   ]
  },
  {
   "cell_type": "markdown",
   "id": "90a41bc4",
   "metadata": {},
   "source": [
    "# CONCLUSION"
   ]
  },
  {
   "cell_type": "markdown",
   "id": "116c3f57",
   "metadata": {},
   "source": [
    "In this project of Mobile Price Classiification we have to predict the price range of a mobile phone that the person can purchase.\n"
   ]
  },
  {
   "cell_type": "markdown",
   "id": "29c08f2a",
   "metadata": {},
   "source": [
    "First we clean the data by seeing if there are no null values or columns are not in the correct datatype."
   ]
  },
  {
   "cell_type": "markdown",
   "id": "5cf8d126",
   "metadata": {},
   "source": [
    "By appyling the Elbow Method we get the predicted price range."
   ]
  },
  {
   "cell_type": "markdown",
   "id": "65e0d9df",
   "metadata": {},
   "source": [
    "Then we visualize the dataset by the help of various tool like countplot,distplot,heatmap and pie diagram."
   ]
  },
  {
   "cell_type": "markdown",
   "id": "3df7eec5",
   "metadata": {},
   "source": [
    "Then we build the model by applying algorithms. "
   ]
  },
  {
   "cell_type": "markdown",
   "id": "cf3e524d",
   "metadata": {},
   "source": [
    "All the models are working properly and the Support Vector Machine(SVM) gives you the highest accuracy score."
   ]
  },
  {
   "cell_type": "code",
   "execution_count": null,
   "id": "57d70e8f",
   "metadata": {},
   "outputs": [],
   "source": []
  }
 ],
 "metadata": {
  "kernelspec": {
   "display_name": "Python 3 (ipykernel)",
   "language": "python",
   "name": "python3"
  },
  "language_info": {
   "codemirror_mode": {
    "name": "ipython",
    "version": 3
   },
   "file_extension": ".py",
   "mimetype": "text/x-python",
   "name": "python",
   "nbconvert_exporter": "python",
   "pygments_lexer": "ipython3",
   "version": "3.9.13"
  }
 },
 "nbformat": 4,
 "nbformat_minor": 5
}
